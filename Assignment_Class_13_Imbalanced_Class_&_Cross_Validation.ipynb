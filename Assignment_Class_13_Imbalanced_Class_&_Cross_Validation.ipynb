{
  "cells": [
    {
      "cell_type": "code",
      "execution_count": 1,
      "id": "342bf10e",
      "metadata": {
        "id": "342bf10e"
      },
      "outputs": [],
      "source": [
        "#import libraries \n",
        "import pandas as pd \n",
        "import numpy as np \n",
        "import seaborn as sns \n",
        "import matplotlib.pyplot as plt "
      ]
    },
    {
      "cell_type": "code",
      "source": [
        "from google.colab import drive\n",
        "drive.mount('/content/drive')"
      ],
      "metadata": {
        "colab": {
          "base_uri": "https://localhost:8080/"
        },
        "id": "rhRGYCqXGGAk",
        "outputId": "6223ee33-f788-4c51-a130-8e9eeab83d9f"
      },
      "id": "rhRGYCqXGGAk",
      "execution_count": 2,
      "outputs": [
        {
          "output_type": "stream",
          "name": "stdout",
          "text": [
            "Drive already mounted at /content/drive; to attempt to forcibly remount, call drive.mount(\"/content/drive\", force_remount=True).\n"
          ]
        }
      ]
    },
    {
      "cell_type": "code",
      "execution_count": 3,
      "id": "55d6dc10",
      "metadata": {
        "id": "55d6dc10"
      },
      "outputs": [],
      "source": [
        "df = pd.read_csv('/content/drive/MyDrive/Colab Notebooks/ML Ai Quest/Class 13 - Re-Sampling & Cross Validation/assignment/Phishing Data.csv') #import data set "
      ]
    },
    {
      "cell_type": "code",
      "execution_count": 4,
      "id": "3ba601da",
      "metadata": {
        "id": "3ba601da"
      },
      "outputs": [],
      "source": [
        "df2 = df.copy()"
      ]
    },
    {
      "cell_type": "code",
      "execution_count": 5,
      "id": "c590e1cd",
      "metadata": {
        "id": "c590e1cd"
      },
      "outputs": [],
      "source": [
        "df3 = df.copy()"
      ]
    },
    {
      "cell_type": "code",
      "execution_count": 6,
      "id": "ed9848e5",
      "metadata": {
        "colab": {
          "base_uri": "https://localhost:8080/",
          "height": 369
        },
        "id": "ed9848e5",
        "outputId": "5edb4668-615c-4996-e3c7-eed0eed9579b"
      },
      "outputs": [
        {
          "output_type": "execute_result",
          "data": {
            "text/plain": [
              "   Total Number of Characters C  Vocabulary richness W/C  Account  Access  \\\n",
              "0                          1673                 0.128512        2       0   \n",
              "1                          4465                 0.137738        0       0   \n",
              "2                          6813                 0.095993        0       0   \n",
              "3                          1518                 0.109354        0       0   \n",
              "4                          1881                 0.126528        7       3   \n",
              "\n",
              "   Bank  Credit  Click  Identity  Inconvenience  Information  ...  Password  \\\n",
              "0     0       0      1         0              0            1  ...         1   \n",
              "1     0       0      0         0              0            4  ...         0   \n",
              "2     0       2      0         0              0            2  ...         0   \n",
              "3     0       1      1         0              0            0  ...         0   \n",
              "4     0       0      0         1              0            2  ...         0   \n",
              "\n",
              "   Recently  Risk  Social  Security  Service  Suspended  \\\n",
              "0         1     0       0         0        0          0   \n",
              "1         0     0       0         3        1          0   \n",
              "2         0     0       0         0        0          0   \n",
              "3         0     0       0         0        0          0   \n",
              "4         0     0       0         0        0          2   \n",
              "\n",
              "   Total number of Function words/W  Unique Words  Phishing Status  \n",
              "0                          0.027907           132                1  \n",
              "1                          0.013008           338                1  \n",
              "2                          0.006116           292                1  \n",
              "3                          0.012048           102                1  \n",
              "4                          0.063025           136                1  \n",
              "\n",
              "[5 rows x 22 columns]"
            ],
            "text/html": [
              "\n",
              "  <div id=\"df-438eb042-4cd9-4619-9930-a881f75dc166\">\n",
              "    <div class=\"colab-df-container\">\n",
              "      <div>\n",
              "<style scoped>\n",
              "    .dataframe tbody tr th:only-of-type {\n",
              "        vertical-align: middle;\n",
              "    }\n",
              "\n",
              "    .dataframe tbody tr th {\n",
              "        vertical-align: top;\n",
              "    }\n",
              "\n",
              "    .dataframe thead th {\n",
              "        text-align: right;\n",
              "    }\n",
              "</style>\n",
              "<table border=\"1\" class=\"dataframe\">\n",
              "  <thead>\n",
              "    <tr style=\"text-align: right;\">\n",
              "      <th></th>\n",
              "      <th>Total Number of Characters C</th>\n",
              "      <th>Vocabulary richness W/C</th>\n",
              "      <th>Account</th>\n",
              "      <th>Access</th>\n",
              "      <th>Bank</th>\n",
              "      <th>Credit</th>\n",
              "      <th>Click</th>\n",
              "      <th>Identity</th>\n",
              "      <th>Inconvenience</th>\n",
              "      <th>Information</th>\n",
              "      <th>...</th>\n",
              "      <th>Password</th>\n",
              "      <th>Recently</th>\n",
              "      <th>Risk</th>\n",
              "      <th>Social</th>\n",
              "      <th>Security</th>\n",
              "      <th>Service</th>\n",
              "      <th>Suspended</th>\n",
              "      <th>Total number of Function words/W</th>\n",
              "      <th>Unique Words</th>\n",
              "      <th>Phishing Status</th>\n",
              "    </tr>\n",
              "  </thead>\n",
              "  <tbody>\n",
              "    <tr>\n",
              "      <th>0</th>\n",
              "      <td>1673</td>\n",
              "      <td>0.128512</td>\n",
              "      <td>2</td>\n",
              "      <td>0</td>\n",
              "      <td>0</td>\n",
              "      <td>0</td>\n",
              "      <td>1</td>\n",
              "      <td>0</td>\n",
              "      <td>0</td>\n",
              "      <td>1</td>\n",
              "      <td>...</td>\n",
              "      <td>1</td>\n",
              "      <td>1</td>\n",
              "      <td>0</td>\n",
              "      <td>0</td>\n",
              "      <td>0</td>\n",
              "      <td>0</td>\n",
              "      <td>0</td>\n",
              "      <td>0.027907</td>\n",
              "      <td>132</td>\n",
              "      <td>1</td>\n",
              "    </tr>\n",
              "    <tr>\n",
              "      <th>1</th>\n",
              "      <td>4465</td>\n",
              "      <td>0.137738</td>\n",
              "      <td>0</td>\n",
              "      <td>0</td>\n",
              "      <td>0</td>\n",
              "      <td>0</td>\n",
              "      <td>0</td>\n",
              "      <td>0</td>\n",
              "      <td>0</td>\n",
              "      <td>4</td>\n",
              "      <td>...</td>\n",
              "      <td>0</td>\n",
              "      <td>0</td>\n",
              "      <td>0</td>\n",
              "      <td>0</td>\n",
              "      <td>3</td>\n",
              "      <td>1</td>\n",
              "      <td>0</td>\n",
              "      <td>0.013008</td>\n",
              "      <td>338</td>\n",
              "      <td>1</td>\n",
              "    </tr>\n",
              "    <tr>\n",
              "      <th>2</th>\n",
              "      <td>6813</td>\n",
              "      <td>0.095993</td>\n",
              "      <td>0</td>\n",
              "      <td>0</td>\n",
              "      <td>0</td>\n",
              "      <td>2</td>\n",
              "      <td>0</td>\n",
              "      <td>0</td>\n",
              "      <td>0</td>\n",
              "      <td>2</td>\n",
              "      <td>...</td>\n",
              "      <td>0</td>\n",
              "      <td>0</td>\n",
              "      <td>0</td>\n",
              "      <td>0</td>\n",
              "      <td>0</td>\n",
              "      <td>0</td>\n",
              "      <td>0</td>\n",
              "      <td>0.006116</td>\n",
              "      <td>292</td>\n",
              "      <td>1</td>\n",
              "    </tr>\n",
              "    <tr>\n",
              "      <th>3</th>\n",
              "      <td>1518</td>\n",
              "      <td>0.109354</td>\n",
              "      <td>0</td>\n",
              "      <td>0</td>\n",
              "      <td>0</td>\n",
              "      <td>1</td>\n",
              "      <td>1</td>\n",
              "      <td>0</td>\n",
              "      <td>0</td>\n",
              "      <td>0</td>\n",
              "      <td>...</td>\n",
              "      <td>0</td>\n",
              "      <td>0</td>\n",
              "      <td>0</td>\n",
              "      <td>0</td>\n",
              "      <td>0</td>\n",
              "      <td>0</td>\n",
              "      <td>0</td>\n",
              "      <td>0.012048</td>\n",
              "      <td>102</td>\n",
              "      <td>1</td>\n",
              "    </tr>\n",
              "    <tr>\n",
              "      <th>4</th>\n",
              "      <td>1881</td>\n",
              "      <td>0.126528</td>\n",
              "      <td>7</td>\n",
              "      <td>3</td>\n",
              "      <td>0</td>\n",
              "      <td>0</td>\n",
              "      <td>0</td>\n",
              "      <td>1</td>\n",
              "      <td>0</td>\n",
              "      <td>2</td>\n",
              "      <td>...</td>\n",
              "      <td>0</td>\n",
              "      <td>0</td>\n",
              "      <td>0</td>\n",
              "      <td>0</td>\n",
              "      <td>0</td>\n",
              "      <td>0</td>\n",
              "      <td>2</td>\n",
              "      <td>0.063025</td>\n",
              "      <td>136</td>\n",
              "      <td>1</td>\n",
              "    </tr>\n",
              "  </tbody>\n",
              "</table>\n",
              "<p>5 rows × 22 columns</p>\n",
              "</div>\n",
              "      <button class=\"colab-df-convert\" onclick=\"convertToInteractive('df-438eb042-4cd9-4619-9930-a881f75dc166')\"\n",
              "              title=\"Convert this dataframe to an interactive table.\"\n",
              "              style=\"display:none;\">\n",
              "        \n",
              "  <svg xmlns=\"http://www.w3.org/2000/svg\" height=\"24px\"viewBox=\"0 0 24 24\"\n",
              "       width=\"24px\">\n",
              "    <path d=\"M0 0h24v24H0V0z\" fill=\"none\"/>\n",
              "    <path d=\"M18.56 5.44l.94 2.06.94-2.06 2.06-.94-2.06-.94-.94-2.06-.94 2.06-2.06.94zm-11 1L8.5 8.5l.94-2.06 2.06-.94-2.06-.94L8.5 2.5l-.94 2.06-2.06.94zm10 10l.94 2.06.94-2.06 2.06-.94-2.06-.94-.94-2.06-.94 2.06-2.06.94z\"/><path d=\"M17.41 7.96l-1.37-1.37c-.4-.4-.92-.59-1.43-.59-.52 0-1.04.2-1.43.59L10.3 9.45l-7.72 7.72c-.78.78-.78 2.05 0 2.83L4 21.41c.39.39.9.59 1.41.59.51 0 1.02-.2 1.41-.59l7.78-7.78 2.81-2.81c.8-.78.8-2.07 0-2.86zM5.41 20L4 18.59l7.72-7.72 1.47 1.35L5.41 20z\"/>\n",
              "  </svg>\n",
              "      </button>\n",
              "      \n",
              "  <style>\n",
              "    .colab-df-container {\n",
              "      display:flex;\n",
              "      flex-wrap:wrap;\n",
              "      gap: 12px;\n",
              "    }\n",
              "\n",
              "    .colab-df-convert {\n",
              "      background-color: #E8F0FE;\n",
              "      border: none;\n",
              "      border-radius: 50%;\n",
              "      cursor: pointer;\n",
              "      display: none;\n",
              "      fill: #1967D2;\n",
              "      height: 32px;\n",
              "      padding: 0 0 0 0;\n",
              "      width: 32px;\n",
              "    }\n",
              "\n",
              "    .colab-df-convert:hover {\n",
              "      background-color: #E2EBFA;\n",
              "      box-shadow: 0px 1px 2px rgba(60, 64, 67, 0.3), 0px 1px 3px 1px rgba(60, 64, 67, 0.15);\n",
              "      fill: #174EA6;\n",
              "    }\n",
              "\n",
              "    [theme=dark] .colab-df-convert {\n",
              "      background-color: #3B4455;\n",
              "      fill: #D2E3FC;\n",
              "    }\n",
              "\n",
              "    [theme=dark] .colab-df-convert:hover {\n",
              "      background-color: #434B5C;\n",
              "      box-shadow: 0px 1px 3px 1px rgba(0, 0, 0, 0.15);\n",
              "      filter: drop-shadow(0px 1px 2px rgba(0, 0, 0, 0.3));\n",
              "      fill: #FFFFFF;\n",
              "    }\n",
              "  </style>\n",
              "\n",
              "      <script>\n",
              "        const buttonEl =\n",
              "          document.querySelector('#df-438eb042-4cd9-4619-9930-a881f75dc166 button.colab-df-convert');\n",
              "        buttonEl.style.display =\n",
              "          google.colab.kernel.accessAllowed ? 'block' : 'none';\n",
              "\n",
              "        async function convertToInteractive(key) {\n",
              "          const element = document.querySelector('#df-438eb042-4cd9-4619-9930-a881f75dc166');\n",
              "          const dataTable =\n",
              "            await google.colab.kernel.invokeFunction('convertToInteractive',\n",
              "                                                     [key], {});\n",
              "          if (!dataTable) return;\n",
              "\n",
              "          const docLinkHtml = 'Like what you see? Visit the ' +\n",
              "            '<a target=\"_blank\" href=https://colab.research.google.com/notebooks/data_table.ipynb>data table notebook</a>'\n",
              "            + ' to learn more about interactive tables.';\n",
              "          element.innerHTML = '';\n",
              "          dataTable['output_type'] = 'display_data';\n",
              "          await google.colab.output.renderOutput(dataTable, element);\n",
              "          const docLink = document.createElement('div');\n",
              "          docLink.innerHTML = docLinkHtml;\n",
              "          element.appendChild(docLink);\n",
              "        }\n",
              "      </script>\n",
              "    </div>\n",
              "  </div>\n",
              "  "
            ]
          },
          "metadata": {},
          "execution_count": 6
        }
      ],
      "source": [
        "df.head() "
      ]
    },
    {
      "cell_type": "code",
      "execution_count": 7,
      "id": "63c77ca4",
      "metadata": {
        "colab": {
          "base_uri": "https://localhost:8080/"
        },
        "id": "63c77ca4",
        "outputId": "fa2e8cbd-5b9e-470f-a739-81f12e545f21"
      },
      "outputs": [
        {
          "output_type": "execute_result",
          "data": {
            "text/plain": [
              "(525754, 22)"
            ]
          },
          "metadata": {},
          "execution_count": 7
        }
      ],
      "source": [
        "df.shape"
      ]
    },
    {
      "cell_type": "code",
      "execution_count": 8,
      "id": "73365167",
      "metadata": {
        "colab": {
          "base_uri": "https://localhost:8080/"
        },
        "id": "73365167",
        "outputId": "ca58ea91-eb8c-4165-b90b-3e4a910a7731"
      },
      "outputs": [
        {
          "output_type": "execute_result",
          "data": {
            "text/plain": [
              "Total Number of Characters C        0\n",
              "Vocabulary richness W/C             0\n",
              "Account                             0\n",
              "Access                              0\n",
              "Bank                                0\n",
              "Credit                              0\n",
              "Click                               0\n",
              "Identity                            0\n",
              "Inconvenience                       0\n",
              "Information                         0\n",
              "Limited                             0\n",
              "Minutes                             0\n",
              "Password                            0\n",
              "Recently                            0\n",
              "Risk                                0\n",
              "Social                              0\n",
              "Security                            0\n",
              "Service                             0\n",
              "Suspended                           0\n",
              "Total number of Function words/W    0\n",
              "Unique Words                        0\n",
              "Phishing Status                     0\n",
              "dtype: int64"
            ]
          },
          "metadata": {},
          "execution_count": 8
        }
      ],
      "source": [
        "df.isnull().sum()"
      ]
    },
    {
      "cell_type": "code",
      "execution_count": 9,
      "id": "e5a99049",
      "metadata": {
        "colab": {
          "base_uri": "https://localhost:8080/"
        },
        "id": "e5a99049",
        "outputId": "6e684fb2-7ee0-432e-a6a5-dcdd588905de"
      },
      "outputs": [
        {
          "output_type": "execute_result",
          "data": {
            "text/plain": [
              "0    517402\n",
              "1      8352\n",
              "Name: Phishing Status, dtype: int64"
            ]
          },
          "metadata": {},
          "execution_count": 9
        }
      ],
      "source": [
        "df['Phishing Status'].value_counts()"
      ]
    },
    {
      "cell_type": "code",
      "execution_count": 9,
      "id": "d27b82cf",
      "metadata": {
        "id": "d27b82cf"
      },
      "outputs": [],
      "source": [
        ""
      ]
    },
    {
      "cell_type": "code",
      "execution_count": 10,
      "id": "aa580eda",
      "metadata": {
        "colab": {
          "base_uri": "https://localhost:8080/",
          "height": 351
        },
        "id": "aa580eda",
        "outputId": "1f38450e-3d20-4eec-a7df-18523cd3d4c5"
      },
      "outputs": [
        {
          "output_type": "stream",
          "name": "stderr",
          "text": [
            "/usr/local/lib/python3.7/dist-packages/seaborn/_decorators.py:43: FutureWarning: Pass the following variable as a keyword arg: x. From version 0.12, the only valid positional argument will be `data`, and passing other arguments without an explicit keyword will result in an error or misinterpretation.\n",
            "  FutureWarning\n"
          ]
        },
        {
          "output_type": "execute_result",
          "data": {
            "text/plain": [
              "<matplotlib.axes._subplots.AxesSubplot at 0x7f95a2295510>"
            ]
          },
          "metadata": {},
          "execution_count": 10
        },
        {
          "output_type": "display_data",
          "data": {
            "text/plain": [
              "<Figure size 432x288 with 1 Axes>"
            ],
            "image/png": "[encoded data removed]"
          },
          "metadata": {
            "needs_background": "light"
          }
        }
      ],
      "source": [
        "sns.countplot(df['Phishing Status'])"
      ]
    },
    {
      "cell_type": "code",
      "execution_count": 11,
      "id": "c8e221b4",
      "metadata": {
        "id": "c8e221b4"
      },
      "outputs": [],
      "source": [
        "df = df.dropna()"
      ]
    },
    {
      "cell_type": "code",
      "execution_count": 12,
      "id": "78da99f2",
      "metadata": {
        "id": "78da99f2"
      },
      "outputs": [],
      "source": [
        "#drop duplicates\n",
        "df.drop_duplicates(inplace=True)"
      ]
    },
    {
      "cell_type": "code",
      "execution_count": 13,
      "id": "78618d2f",
      "metadata": {
        "colab": {
          "base_uri": "https://localhost:8080/"
        },
        "id": "78618d2f",
        "outputId": "8bad6b38-9947-4389-9dae-6a8e21a02f83"
      },
      "outputs": [
        {
          "output_type": "execute_result",
          "data": {
            "text/plain": [
              "(451085, 22)"
            ]
          },
          "metadata": {},
          "execution_count": 13
        }
      ],
      "source": [
        "df.shape"
      ]
    },
    {
      "cell_type": "code",
      "execution_count": 14,
      "id": "4f26f220",
      "metadata": {
        "colab": {
          "base_uri": "https://localhost:8080/",
          "height": 1000
        },
        "id": "4f26f220",
        "outputId": "920f523a-28ed-4459-b648-9a1a10f2f28c"
      },
      "outputs": [
        {
          "output_type": "execute_result",
          "data": {
            "text/plain": [
              "                                  Total Number of Characters C  \\\n",
              "Total Number of Characters C                          1.000000   \n",
              "Vocabulary richness W/C                              -0.002116   \n",
              "Account                                               0.083265   \n",
              "Access                                                0.152107   \n",
              "Bank                                                  0.191894   \n",
              "Credit                                                0.204276   \n",
              "Click                                                 0.060481   \n",
              "Identity                                              0.042419   \n",
              "Inconvenience                                         0.030526   \n",
              "Information                                           0.185307   \n",
              "Limited                                               0.246313   \n",
              "Minutes                                               0.093064   \n",
              "Password                                              0.006735   \n",
              "Recently                                              0.271126   \n",
              "Risk                                                  0.135223   \n",
              "Social                                                0.062420   \n",
              "Security                                              0.108267   \n",
              "Service                                               0.259593   \n",
              "Suspended                                             0.099211   \n",
              "Total number of Function words/W                      0.008601   \n",
              "Unique Words                                          0.778506   \n",
              "Phishing Status                                       0.051091   \n",
              "\n",
              "                                  Vocabulary richness W/C   Account    Access  \\\n",
              "Total Number of Characters C                    -0.002116  0.083265  0.152107   \n",
              "Vocabulary richness W/C                          1.000000  0.016879  0.071430   \n",
              "Account                                          0.016879  1.000000  0.179427   \n",
              "Access                                           0.071430  0.179427  1.000000   \n",
              "Bank                                             0.066452  0.139401  0.114669   \n",
              "Credit                                           0.084877  0.080516  0.116968   \n",
              "Click                                            0.054371  0.088878  0.096599   \n",
              "Identity                                         0.003991  0.137322  0.045184   \n",
              "Inconvenience                                    0.000312  0.229636  0.079793   \n",
              "Information                                      0.115901  0.127405  0.206722   \n",
              "Limited                                          0.106885  0.167973  0.160009   \n",
              "Minutes                                          0.068760  0.021175  0.073901   \n",
              "Password                                         0.027050  0.103202  0.102375   \n",
              "Recently                                         0.100285  0.122712  0.155169   \n",
              "Risk                                             0.110754  0.022294  0.085121   \n",
              "Social                                           0.027247  0.020610  0.019349   \n",
              "Security                                         0.035346  0.237170  0.178466   \n",
              "Service                                          0.113242  0.076579  0.310509   \n",
              "Suspended                                        0.028337  0.114873  0.056917   \n",
              "Total number of Function words/W                 0.072776  0.409819  0.308671   \n",
              "Unique Words                                     0.143075  0.108540  0.261473   \n",
              "Phishing Status                                 -0.105144  0.497483  0.081013   \n",
              "\n",
              "                                      Bank    Credit     Click  Identity  \\\n",
              "Total Number of Characters C      0.191894  0.204276  0.060481  0.042419   \n",
              "Vocabulary richness W/C           0.066452  0.084877  0.054371  0.003991   \n",
              "Account                           0.139401  0.080516  0.088878  0.137322   \n",
              "Access                            0.114669  0.116968  0.096599  0.045184   \n",
              "Bank                              1.000000  0.369442  0.027049  0.047031   \n",
              "Credit                            0.369442  1.000000  0.023917  0.042751   \n",
              "Click                             0.027049  0.023917  1.000000  0.017591   \n",
              "Identity                          0.047031  0.042751  0.017591  1.000000   \n",
              "Inconvenience                     0.023036  0.020260  0.014315  0.046390   \n",
              "Information                       0.108247  0.125355  0.100119  0.076662   \n",
              "Limited                           0.252722  0.351086  0.083914  0.046888   \n",
              "Minutes                           0.032711  0.024523  0.043377  0.007946   \n",
              "Password                          0.007522 -0.001671  0.086355  0.009521   \n",
              "Recently                          0.214060  0.187718  0.020944  0.046700   \n",
              "Risk                              0.202636  0.279082  0.033421  0.007388   \n",
              "Social                            0.043333  0.022006  0.007559  0.022728   \n",
              "Security                          0.111601  0.077355  0.044626  0.077295   \n",
              "Service                           0.213697  0.243998  0.074350  0.055467   \n",
              "Suspended                         0.065849  0.070255  0.024757  0.031660   \n",
              "Total number of Function words/W  0.156501  0.200742  0.276980  0.101277   \n",
              "Unique Words                      0.293280  0.311056  0.120016  0.053712   \n",
              "Phishing Status                   0.124631  0.012774  0.055107  0.147700   \n",
              "\n",
              "                                  Inconvenience  Information  ...  Password  \\\n",
              "Total Number of Characters C           0.030526     0.185307  ...  0.006735   \n",
              "Vocabulary richness W/C                0.000312     0.115901  ...  0.027050   \n",
              "Account                                0.229636     0.127405  ...  0.103202   \n",
              "Access                                 0.079793     0.206722  ...  0.102375   \n",
              "Bank                                   0.023036     0.108247  ...  0.007522   \n",
              "Credit                                 0.020260     0.125355  ... -0.001671   \n",
              "Click                                  0.014315     0.100119  ...  0.086355   \n",
              "Identity                               0.046390     0.076662  ...  0.009521   \n",
              "Inconvenience                          1.000000     0.030029  ...  0.027340   \n",
              "Information                            0.030029     1.000000  ...  0.037702   \n",
              "Limited                                0.080864     0.190200  ...  0.017365   \n",
              "Minutes                                0.014593     0.056707  ...  0.000363   \n",
              "Password                               0.027340     0.037702  ...  1.000000   \n",
              "Recently                               0.044667     0.177508  ...  0.009948   \n",
              "Risk                                   0.005357     0.139575  ... -0.001334   \n",
              "Social                                 0.001749     0.044645  ...  0.003996   \n",
              "Security                               0.133371     0.150214  ...  0.109842   \n",
              "Service                                0.027418     0.231139  ...  0.014693   \n",
              "Suspended                              0.037234     0.051673  ...  0.008341   \n",
              "Total number of Function words/W       0.146563     0.292002  ...  0.269528   \n",
              "Unique Words                           0.038117     0.303651  ...  0.013661   \n",
              "Phishing Status                        0.174929     0.061520  ...  0.070248   \n",
              "\n",
              "                                  Recently      Risk    Social  Security  \\\n",
              "Total Number of Characters C      0.271126  0.135223  0.062420  0.108267   \n",
              "Vocabulary richness W/C           0.100285  0.110754  0.027247  0.035346   \n",
              "Account                           0.122712  0.022294  0.020610  0.237170   \n",
              "Access                            0.155169  0.085121  0.019349  0.178466   \n",
              "Bank                              0.214060  0.202636  0.043333  0.111601   \n",
              "Credit                            0.187718  0.279082  0.022006  0.077355   \n",
              "Click                             0.020944  0.033421  0.007559  0.044626   \n",
              "Identity                          0.046700  0.007388  0.022728  0.077295   \n",
              "Inconvenience                     0.044667  0.005357  0.001749  0.133371   \n",
              "Information                       0.177508  0.139575  0.044645  0.150214   \n",
              "Limited                           0.281431  0.133351  0.030336  0.122529   \n",
              "Minutes                           0.054721  0.026294  0.011534  0.023611   \n",
              "Password                          0.009948 -0.001334  0.003996  0.109842   \n",
              "Recently                          1.000000  0.124687  0.128071  0.151618   \n",
              "Risk                              0.124687  1.000000  0.028890  0.048787   \n",
              "Social                            0.128071  0.028890  1.000000  0.324573   \n",
              "Security                          0.151618  0.048787  0.324573  1.000000   \n",
              "Service                           0.279959  0.112977  0.055777  0.150242   \n",
              "Suspended                         0.085548  0.031199  0.020886  0.056373   \n",
              "Total number of Function words/W  0.084814  0.218126  0.044555  0.269612   \n",
              "Unique Words                      0.409054  0.236722  0.099018  0.163471   \n",
              "Phishing Status                   0.049945 -0.019369  0.006355  0.185545   \n",
              "\n",
              "                                   Service  Suspended  \\\n",
              "Total Number of Characters C      0.259593   0.099211   \n",
              "Vocabulary richness W/C           0.113242   0.028337   \n",
              "Account                           0.076579   0.114873   \n",
              "Access                            0.310509   0.056917   \n",
              "Bank                              0.213697   0.065849   \n",
              "Credit                            0.243998   0.070255   \n",
              "Click                             0.074350   0.024757   \n",
              "Identity                          0.055467   0.031660   \n",
              "Inconvenience                     0.027418   0.037234   \n",
              "Information                       0.231139   0.051673   \n",
              "Limited                           0.286592   0.101100   \n",
              "Minutes                           0.059178   0.026900   \n",
              "Password                          0.014693   0.008341   \n",
              "Recently                          0.279959   0.085548   \n",
              "Risk                              0.112977   0.031199   \n",
              "Social                            0.055777   0.020886   \n",
              "Security                          0.150242   0.056373   \n",
              "Service                           1.000000   0.092223   \n",
              "Suspended                         0.092223   1.000000   \n",
              "Total number of Function words/W  0.156978   0.079803   \n",
              "Unique Words                      0.404571   0.140697   \n",
              "Phishing Status                   0.023631   0.095063   \n",
              "\n",
              "                                  Total number of Function words/W  \\\n",
              "Total Number of Characters C                              0.008601   \n",
              "Vocabulary richness W/C                                   0.072776   \n",
              "Account                                                   0.409819   \n",
              "Access                                                    0.308671   \n",
              "Bank                                                      0.156501   \n",
              "Credit                                                    0.200742   \n",
              "Click                                                     0.276980   \n",
              "Identity                                                  0.101277   \n",
              "Inconvenience                                             0.146563   \n",
              "Information                                               0.292002   \n",
              "Limited                                                   0.135955   \n",
              "Minutes                                                   0.100717   \n",
              "Password                                                  0.269528   \n",
              "Recently                                                  0.084814   \n",
              "Risk                                                      0.218126   \n",
              "Social                                                    0.044555   \n",
              "Security                                                  0.269612   \n",
              "Service                                                   0.156978   \n",
              "Suspended                                                 0.079803   \n",
              "Total number of Function words/W                          1.000000   \n",
              "Unique Words                                              0.025764   \n",
              "Phishing Status                                           0.288569   \n",
              "\n",
              "                                  Unique Words  Phishing Status  \n",
              "Total Number of Characters C          0.778506         0.051091  \n",
              "Vocabulary richness W/C               0.143075        -0.105144  \n",
              "Account                               0.108540         0.497483  \n",
              "Access                                0.261473         0.081013  \n",
              "Bank                                  0.293280         0.124631  \n",
              "Credit                                0.311056         0.012774  \n",
              "Click                                 0.120016         0.055107  \n",
              "Identity                              0.053712         0.147700  \n",
              "Inconvenience                         0.038117         0.174929  \n",
              "Information                           0.303651         0.061520  \n",
              "Limited                               0.371636         0.058263  \n",
              "Minutes                               0.153513         0.010951  \n",
              "Password                              0.013661         0.070248  \n",
              "Recently                              0.409054         0.049945  \n",
              "Risk                                  0.236722        -0.019369  \n",
              "Social                                0.099018         0.006355  \n",
              "Security                              0.163471         0.185545  \n",
              "Service                               0.404571         0.023631  \n",
              "Suspended                             0.140697         0.095063  \n",
              "Total number of Function words/W      0.025764         0.288569  \n",
              "Unique Words                          1.000000         0.018325  \n",
              "Phishing Status                       0.018325         1.000000  \n",
              "\n",
              "[22 rows x 22 columns]"
            ],
            "text/html": [
              "\n",
              "  <div id=\"df-757d7ed8-77e8-4f85-a624-17a57508cab8\">\n",
              "    <div class=\"colab-df-container\">\n",
              "      <div>\n",
              "<style scoped>\n",
              "    .dataframe tbody tr th:only-of-type {\n",
              "        vertical-align: middle;\n",
              "    }\n",
              "\n",
              "    .dataframe tbody tr th {\n",
              "        vertical-align: top;\n",
              "    }\n",
              "\n",
              "    .dataframe thead th {\n",
              "        text-align: right;\n",
              "    }\n",
              "</style>\n",
              "<table border=\"1\" class=\"dataframe\">\n",
              "  <thead>\n",
              "    <tr style=\"text-align: right;\">\n",
              "      <th></th>\n",
              "      <th>Total Number of Characters C</th>\n",
              "      <th>Vocabulary richness W/C</th>\n",
              "      <th>Account</th>\n",
              "      <th>Access</th>\n",
              "      <th>Bank</th>\n",
              "      <th>Credit</th>\n",
              "      <th>Click</th>\n",
              "      <th>Identity</th>\n",
              "      <th>Inconvenience</th>\n",
              "      <th>Information</th>\n",
              "      <th>...</th>\n",
              "      <th>Password</th>\n",
              "      <th>Recently</th>\n",
              "      <th>Risk</th>\n",
              "      <th>Social</th>\n",
              "      <th>Security</th>\n",
              "      <th>Service</th>\n",
              "      <th>Suspended</th>\n",
              "      <th>Total number of Function words/W</th>\n",
              "      <th>Unique Words</th>\n",
              "      <th>Phishing Status</th>\n",
              "    </tr>\n",
              "  </thead>\n",
              "  <tbody>\n",
              "    <tr>\n",
              "      <th>Total Number of Characters C</th>\n",
              "      <td>1.000000</td>\n",
              "      <td>-0.002116</td>\n",
              "      <td>0.083265</td>\n",
              "      <td>0.152107</td>\n",
              "      <td>0.191894</td>\n",
              "      <td>0.204276</td>\n",
              "      <td>0.060481</td>\n",
              "      <td>0.042419</td>\n",
              "      <td>0.030526</td>\n",
              "      <td>0.185307</td>\n",
              "      <td>...</td>\n",
              "      <td>0.006735</td>\n",
              "      <td>0.271126</td>\n",
              "      <td>0.135223</td>\n",
              "      <td>0.062420</td>\n",
              "      <td>0.108267</td>\n",
              "      <td>0.259593</td>\n",
              "      <td>0.099211</td>\n",
              "      <td>0.008601</td>\n",
              "      <td>0.778506</td>\n",
              "      <td>0.051091</td>\n",
              "    </tr>\n",
              "    <tr>\n",
              "      <th>Vocabulary richness W/C</th>\n",
              "      <td>-0.002116</td>\n",
              "      <td>1.000000</td>\n",
              "      <td>0.016879</td>\n",
              "      <td>0.071430</td>\n",
              "      <td>0.066452</td>\n",
              "      <td>0.084877</td>\n",
              "      <td>0.054371</td>\n",
              "      <td>0.003991</td>\n",
              "      <td>0.000312</td>\n",
              "      <td>0.115901</td>\n",
              "      <td>...</td>\n",
              "      <td>0.027050</td>\n",
              "      <td>0.100285</td>\n",
              "      <td>0.110754</td>\n",
              "      <td>0.027247</td>\n",
              "      <td>0.035346</td>\n",
              "      <td>0.113242</td>\n",
              "      <td>0.028337</td>\n",
              "      <td>0.072776</td>\n",
              "      <td>0.143075</td>\n",
              "      <td>-0.105144</td>\n",
              "    </tr>\n",
              "    <tr>\n",
              "      <th>Account</th>\n",
              "      <td>0.083265</td>\n",
              "      <td>0.016879</td>\n",
              "      <td>1.000000</td>\n",
              "      <td>0.179427</td>\n",
              "      <td>0.139401</td>\n",
              "      <td>0.080516</td>\n",
              "      <td>0.088878</td>\n",
              "      <td>0.137322</td>\n",
              "      <td>0.229636</td>\n",
              "      <td>0.127405</td>\n",
              "      <td>...</td>\n",
              "      <td>0.103202</td>\n",
              "      <td>0.122712</td>\n",
              "      <td>0.022294</td>\n",
              "      <td>0.020610</td>\n",
              "      <td>0.237170</td>\n",
              "      <td>0.076579</td>\n",
              "      <td>0.114873</td>\n",
              "      <td>0.409819</td>\n",
              "      <td>0.108540</td>\n",
              "      <td>0.497483</td>\n",
              "    </tr>\n",
              "    <tr>\n",
              "      <th>Access</th>\n",
              "      <td>0.152107</td>\n",
              "      <td>0.071430</td>\n",
              "      <td>0.179427</td>\n",
              "      <td>1.000000</td>\n",
              "      <td>0.114669</td>\n",
              "      <td>0.116968</td>\n",
              "      <td>0.096599</td>\n",
              "      <td>0.045184</td>\n",
              "      <td>0.079793</td>\n",
              "      <td>0.206722</td>\n",
              "      <td>...</td>\n",
              "      <td>0.102375</td>\n",
              "      <td>0.155169</td>\n",
              "      <td>0.085121</td>\n",
              "      <td>0.019349</td>\n",
              "      <td>0.178466</td>\n",
              "      <td>0.310509</td>\n",
              "      <td>0.056917</td>\n",
              "      <td>0.308671</td>\n",
              "      <td>0.261473</td>\n",
              "      <td>0.081013</td>\n",
              "    </tr>\n",
              "    <tr>\n",
              "      <th>Bank</th>\n",
              "      <td>0.191894</td>\n",
              "      <td>0.066452</td>\n",
              "      <td>0.139401</td>\n",
              "      <td>0.114669</td>\n",
              "      <td>1.000000</td>\n",
              "      <td>0.369442</td>\n",
              "      <td>0.027049</td>\n",
              "      <td>0.047031</td>\n",
              "      <td>0.023036</td>\n",
              "      <td>0.108247</td>\n",
              "      <td>...</td>\n",
              "      <td>0.007522</td>\n",
              "      <td>0.214060</td>\n",
              "      <td>0.202636</td>\n",
              "      <td>0.043333</td>\n",
              "      <td>0.111601</td>\n",
              "      <td>0.213697</td>\n",
              "      <td>0.065849</td>\n",
              "      <td>0.156501</td>\n",
              "      <td>0.293280</td>\n",
              "      <td>0.124631</td>\n",
              "    </tr>\n",
              "    <tr>\n",
              "      <th>Credit</th>\n",
              "      <td>0.204276</td>\n",
              "      <td>0.084877</td>\n",
              "      <td>0.080516</td>\n",
              "      <td>0.116968</td>\n",
              "      <td>0.369442</td>\n",
              "      <td>1.000000</td>\n",
              "      <td>0.023917</td>\n",
              "      <td>0.042751</td>\n",
              "      <td>0.020260</td>\n",
              "      <td>0.125355</td>\n",
              "      <td>...</td>\n",
              "      <td>-0.001671</td>\n",
              "      <td>0.187718</td>\n",
              "      <td>0.279082</td>\n",
              "      <td>0.022006</td>\n",
              "      <td>0.077355</td>\n",
              "      <td>0.243998</td>\n",
              "      <td>0.070255</td>\n",
              "      <td>0.200742</td>\n",
              "      <td>0.311056</td>\n",
              "      <td>0.012774</td>\n",
              "    </tr>\n",
              "    <tr>\n",
              "      <th>Click</th>\n",
              "      <td>0.060481</td>\n",
              "      <td>0.054371</td>\n",
              "      <td>0.088878</td>\n",
              "      <td>0.096599</td>\n",
              "      <td>0.027049</td>\n",
              "      <td>0.023917</td>\n",
              "      <td>1.000000</td>\n",
              "      <td>0.017591</td>\n",
              "      <td>0.014315</td>\n",
              "      <td>0.100119</td>\n",
              "      <td>...</td>\n",
              "      <td>0.086355</td>\n",
              "      <td>0.020944</td>\n",
              "      <td>0.033421</td>\n",
              "      <td>0.007559</td>\n",
              "      <td>0.044626</td>\n",
              "      <td>0.074350</td>\n",
              "      <td>0.024757</td>\n",
              "      <td>0.276980</td>\n",
              "      <td>0.120016</td>\n",
              "      <td>0.055107</td>\n",
              "    </tr>\n",
              "    <tr>\n",
              "      <th>Identity</th>\n",
              "      <td>0.042419</td>\n",
              "      <td>0.003991</td>\n",
              "      <td>0.137322</td>\n",
              "      <td>0.045184</td>\n",
              "      <td>0.047031</td>\n",
              "      <td>0.042751</td>\n",
              "      <td>0.017591</td>\n",
              "      <td>1.000000</td>\n",
              "      <td>0.046390</td>\n",
              "      <td>0.076662</td>\n",
              "      <td>...</td>\n",
              "      <td>0.009521</td>\n",
              "      <td>0.046700</td>\n",
              "      <td>0.007388</td>\n",
              "      <td>0.022728</td>\n",
              "      <td>0.077295</td>\n",
              "      <td>0.055467</td>\n",
              "      <td>0.031660</td>\n",
              "      <td>0.101277</td>\n",
              "      <td>0.053712</td>\n",
              "      <td>0.147700</td>\n",
              "    </tr>\n",
              "    <tr>\n",
              "      <th>Inconvenience</th>\n",
              "      <td>0.030526</td>\n",
              "      <td>0.000312</td>\n",
              "      <td>0.229636</td>\n",
              "      <td>0.079793</td>\n",
              "      <td>0.023036</td>\n",
              "      <td>0.020260</td>\n",
              "      <td>0.014315</td>\n",
              "      <td>0.046390</td>\n",
              "      <td>1.000000</td>\n",
              "      <td>0.030029</td>\n",
              "      <td>...</td>\n",
              "      <td>0.027340</td>\n",
              "      <td>0.044667</td>\n",
              "      <td>0.005357</td>\n",
              "      <td>0.001749</td>\n",
              "      <td>0.133371</td>\n",
              "      <td>0.027418</td>\n",
              "      <td>0.037234</td>\n",
              "      <td>0.146563</td>\n",
              "      <td>0.038117</td>\n",
              "      <td>0.174929</td>\n",
              "    </tr>\n",
              "    <tr>\n",
              "      <th>Information</th>\n",
              "      <td>0.185307</td>\n",
              "      <td>0.115901</td>\n",
              "      <td>0.127405</td>\n",
              "      <td>0.206722</td>\n",
              "      <td>0.108247</td>\n",
              "      <td>0.125355</td>\n",
              "      <td>0.100119</td>\n",
              "      <td>0.076662</td>\n",
              "      <td>0.030029</td>\n",
              "      <td>1.000000</td>\n",
              "      <td>...</td>\n",
              "      <td>0.037702</td>\n",
              "      <td>0.177508</td>\n",
              "      <td>0.139575</td>\n",
              "      <td>0.044645</td>\n",
              "      <td>0.150214</td>\n",
              "      <td>0.231139</td>\n",
              "      <td>0.051673</td>\n",
              "      <td>0.292002</td>\n",
              "      <td>0.303651</td>\n",
              "      <td>0.061520</td>\n",
              "    </tr>\n",
              "    <tr>\n",
              "      <th>Limited</th>\n",
              "      <td>0.246313</td>\n",
              "      <td>0.106885</td>\n",
              "      <td>0.167973</td>\n",
              "      <td>0.160009</td>\n",
              "      <td>0.252722</td>\n",
              "      <td>0.351086</td>\n",
              "      <td>0.083914</td>\n",
              "      <td>0.046888</td>\n",
              "      <td>0.080864</td>\n",
              "      <td>0.190200</td>\n",
              "      <td>...</td>\n",
              "      <td>0.017365</td>\n",
              "      <td>0.281431</td>\n",
              "      <td>0.133351</td>\n",
              "      <td>0.030336</td>\n",
              "      <td>0.122529</td>\n",
              "      <td>0.286592</td>\n",
              "      <td>0.101100</td>\n",
              "      <td>0.135955</td>\n",
              "      <td>0.371636</td>\n",
              "      <td>0.058263</td>\n",
              "    </tr>\n",
              "    <tr>\n",
              "      <th>Minutes</th>\n",
              "      <td>0.093064</td>\n",
              "      <td>0.068760</td>\n",
              "      <td>0.021175</td>\n",
              "      <td>0.073901</td>\n",
              "      <td>0.032711</td>\n",
              "      <td>0.024523</td>\n",
              "      <td>0.043377</td>\n",
              "      <td>0.007946</td>\n",
              "      <td>0.014593</td>\n",
              "      <td>0.056707</td>\n",
              "      <td>...</td>\n",
              "      <td>0.000363</td>\n",
              "      <td>0.054721</td>\n",
              "      <td>0.026294</td>\n",
              "      <td>0.011534</td>\n",
              "      <td>0.023611</td>\n",
              "      <td>0.059178</td>\n",
              "      <td>0.026900</td>\n",
              "      <td>0.100717</td>\n",
              "      <td>0.153513</td>\n",
              "      <td>0.010951</td>\n",
              "    </tr>\n",
              "    <tr>\n",
              "      <th>Password</th>\n",
              "      <td>0.006735</td>\n",
              "      <td>0.027050</td>\n",
              "      <td>0.103202</td>\n",
              "      <td>0.102375</td>\n",
              "      <td>0.007522</td>\n",
              "      <td>-0.001671</td>\n",
              "      <td>0.086355</td>\n",
              "      <td>0.009521</td>\n",
              "      <td>0.027340</td>\n",
              "      <td>0.037702</td>\n",
              "      <td>...</td>\n",
              "      <td>1.000000</td>\n",
              "      <td>0.009948</td>\n",
              "      <td>-0.001334</td>\n",
              "      <td>0.003996</td>\n",
              "      <td>0.109842</td>\n",
              "      <td>0.014693</td>\n",
              "      <td>0.008341</td>\n",
              "      <td>0.269528</td>\n",
              "      <td>0.013661</td>\n",
              "      <td>0.070248</td>\n",
              "    </tr>\n",
              "    <tr>\n",
              "      <th>Recently</th>\n",
              "      <td>0.271126</td>\n",
              "      <td>0.100285</td>\n",
              "      <td>0.122712</td>\n",
              "      <td>0.155169</td>\n",
              "      <td>0.214060</td>\n",
              "      <td>0.187718</td>\n",
              "      <td>0.020944</td>\n",
              "      <td>0.046700</td>\n",
              "      <td>0.044667</td>\n",
              "      <td>0.177508</td>\n",
              "      <td>...</td>\n",
              "      <td>0.009948</td>\n",
              "      <td>1.000000</td>\n",
              "      <td>0.124687</td>\n",
              "      <td>0.128071</td>\n",
              "      <td>0.151618</td>\n",
              "      <td>0.279959</td>\n",
              "      <td>0.085548</td>\n",
              "      <td>0.084814</td>\n",
              "      <td>0.409054</td>\n",
              "      <td>0.049945</td>\n",
              "    </tr>\n",
              "    <tr>\n",
              "      <th>Risk</th>\n",
              "      <td>0.135223</td>\n",
              "      <td>0.110754</td>\n",
              "      <td>0.022294</td>\n",
              "      <td>0.085121</td>\n",
              "      <td>0.202636</td>\n",
              "      <td>0.279082</td>\n",
              "      <td>0.033421</td>\n",
              "      <td>0.007388</td>\n",
              "      <td>0.005357</td>\n",
              "      <td>0.139575</td>\n",
              "      <td>...</td>\n",
              "      <td>-0.001334</td>\n",
              "      <td>0.124687</td>\n",
              "      <td>1.000000</td>\n",
              "      <td>0.028890</td>\n",
              "      <td>0.048787</td>\n",
              "      <td>0.112977</td>\n",
              "      <td>0.031199</td>\n",
              "      <td>0.218126</td>\n",
              "      <td>0.236722</td>\n",
              "      <td>-0.019369</td>\n",
              "    </tr>\n",
              "    <tr>\n",
              "      <th>Social</th>\n",
              "      <td>0.062420</td>\n",
              "      <td>0.027247</td>\n",
              "      <td>0.020610</td>\n",
              "      <td>0.019349</td>\n",
              "      <td>0.043333</td>\n",
              "      <td>0.022006</td>\n",
              "      <td>0.007559</td>\n",
              "      <td>0.022728</td>\n",
              "      <td>0.001749</td>\n",
              "      <td>0.044645</td>\n",
              "      <td>...</td>\n",
              "      <td>0.003996</td>\n",
              "      <td>0.128071</td>\n",
              "      <td>0.028890</td>\n",
              "      <td>1.000000</td>\n",
              "      <td>0.324573</td>\n",
              "      <td>0.055777</td>\n",
              "      <td>0.020886</td>\n",
              "      <td>0.044555</td>\n",
              "      <td>0.099018</td>\n",
              "      <td>0.006355</td>\n",
              "    </tr>\n",
              "    <tr>\n",
              "      <th>Security</th>\n",
              "      <td>0.108267</td>\n",
              "      <td>0.035346</td>\n",
              "      <td>0.237170</td>\n",
              "      <td>0.178466</td>\n",
              "      <td>0.111601</td>\n",
              "      <td>0.077355</td>\n",
              "      <td>0.044626</td>\n",
              "      <td>0.077295</td>\n",
              "      <td>0.133371</td>\n",
              "      <td>0.150214</td>\n",
              "      <td>...</td>\n",
              "      <td>0.109842</td>\n",
              "      <td>0.151618</td>\n",
              "      <td>0.048787</td>\n",
              "      <td>0.324573</td>\n",
              "      <td>1.000000</td>\n",
              "      <td>0.150242</td>\n",
              "      <td>0.056373</td>\n",
              "      <td>0.269612</td>\n",
              "      <td>0.163471</td>\n",
              "      <td>0.185545</td>\n",
              "    </tr>\n",
              "    <tr>\n",
              "      <th>Service</th>\n",
              "      <td>0.259593</td>\n",
              "      <td>0.113242</td>\n",
              "      <td>0.076579</td>\n",
              "      <td>0.310509</td>\n",
              "      <td>0.213697</td>\n",
              "      <td>0.243998</td>\n",
              "      <td>0.074350</td>\n",
              "      <td>0.055467</td>\n",
              "      <td>0.027418</td>\n",
              "      <td>0.231139</td>\n",
              "      <td>...</td>\n",
              "      <td>0.014693</td>\n",
              "      <td>0.279959</td>\n",
              "      <td>0.112977</td>\n",
              "      <td>0.055777</td>\n",
              "      <td>0.150242</td>\n",
              "      <td>1.000000</td>\n",
              "      <td>0.092223</td>\n",
              "      <td>0.156978</td>\n",
              "      <td>0.404571</td>\n",
              "      <td>0.023631</td>\n",
              "    </tr>\n",
              "    <tr>\n",
              "      <th>Suspended</th>\n",
              "      <td>0.099211</td>\n",
              "      <td>0.028337</td>\n",
              "      <td>0.114873</td>\n",
              "      <td>0.056917</td>\n",
              "      <td>0.065849</td>\n",
              "      <td>0.070255</td>\n",
              "      <td>0.024757</td>\n",
              "      <td>0.031660</td>\n",
              "      <td>0.037234</td>\n",
              "      <td>0.051673</td>\n",
              "      <td>...</td>\n",
              "      <td>0.008341</td>\n",
              "      <td>0.085548</td>\n",
              "      <td>0.031199</td>\n",
              "      <td>0.020886</td>\n",
              "      <td>0.056373</td>\n",
              "      <td>0.092223</td>\n",
              "      <td>1.000000</td>\n",
              "      <td>0.079803</td>\n",
              "      <td>0.140697</td>\n",
              "      <td>0.095063</td>\n",
              "    </tr>\n",
              "    <tr>\n",
              "      <th>Total number of Function words/W</th>\n",
              "      <td>0.008601</td>\n",
              "      <td>0.072776</td>\n",
              "      <td>0.409819</td>\n",
              "      <td>0.308671</td>\n",
              "      <td>0.156501</td>\n",
              "      <td>0.200742</td>\n",
              "      <td>0.276980</td>\n",
              "      <td>0.101277</td>\n",
              "      <td>0.146563</td>\n",
              "      <td>0.292002</td>\n",
              "      <td>...</td>\n",
              "      <td>0.269528</td>\n",
              "      <td>0.084814</td>\n",
              "      <td>0.218126</td>\n",
              "      <td>0.044555</td>\n",
              "      <td>0.269612</td>\n",
              "      <td>0.156978</td>\n",
              "      <td>0.079803</td>\n",
              "      <td>1.000000</td>\n",
              "      <td>0.025764</td>\n",
              "      <td>0.288569</td>\n",
              "    </tr>\n",
              "    <tr>\n",
              "      <th>Unique Words</th>\n",
              "      <td>0.778506</td>\n",
              "      <td>0.143075</td>\n",
              "      <td>0.108540</td>\n",
              "      <td>0.261473</td>\n",
              "      <td>0.293280</td>\n",
              "      <td>0.311056</td>\n",
              "      <td>0.120016</td>\n",
              "      <td>0.053712</td>\n",
              "      <td>0.038117</td>\n",
              "      <td>0.303651</td>\n",
              "      <td>...</td>\n",
              "      <td>0.013661</td>\n",
              "      <td>0.409054</td>\n",
              "      <td>0.236722</td>\n",
              "      <td>0.099018</td>\n",
              "      <td>0.163471</td>\n",
              "      <td>0.404571</td>\n",
              "      <td>0.140697</td>\n",
              "      <td>0.025764</td>\n",
              "      <td>1.000000</td>\n",
              "      <td>0.018325</td>\n",
              "    </tr>\n",
              "    <tr>\n",
              "      <th>Phishing Status</th>\n",
              "      <td>0.051091</td>\n",
              "      <td>-0.105144</td>\n",
              "      <td>0.497483</td>\n",
              "      <td>0.081013</td>\n",
              "      <td>0.124631</td>\n",
              "      <td>0.012774</td>\n",
              "      <td>0.055107</td>\n",
              "      <td>0.147700</td>\n",
              "      <td>0.174929</td>\n",
              "      <td>0.061520</td>\n",
              "      <td>...</td>\n",
              "      <td>0.070248</td>\n",
              "      <td>0.049945</td>\n",
              "      <td>-0.019369</td>\n",
              "      <td>0.006355</td>\n",
              "      <td>0.185545</td>\n",
              "      <td>0.023631</td>\n",
              "      <td>0.095063</td>\n",
              "      <td>0.288569</td>\n",
              "      <td>0.018325</td>\n",
              "      <td>1.000000</td>\n",
              "    </tr>\n",
              "  </tbody>\n",
              "</table>\n",
              "<p>22 rows × 22 columns</p>\n",
              "</div>\n",
              "      <button class=\"colab-df-convert\" onclick=\"convertToInteractive('df-757d7ed8-77e8-4f85-a624-17a57508cab8')\"\n",
              "              title=\"Convert this dataframe to an interactive table.\"\n",
              "              style=\"display:none;\">\n",
              "        \n",
              "  <svg xmlns=\"http://www.w3.org/2000/svg\" height=\"24px\"viewBox=\"0 0 24 24\"\n",
              "       width=\"24px\">\n",
              "    <path d=\"M0 0h24v24H0V0z\" fill=\"none\"/>\n",
              "    <path d=\"M18.56 5.44l.94 2.06.94-2.06 2.06-.94-2.06-.94-.94-2.06-.94 2.06-2.06.94zm-11 1L8.5 8.5l.94-2.06 2.06-.94-2.06-.94L8.5 2.5l-.94 2.06-2.06.94zm10 10l.94 2.06.94-2.06 2.06-.94-2.06-.94-.94-2.06-.94 2.06-2.06.94z\"/><path d=\"M17.41 7.96l-1.37-1.37c-.4-.4-.92-.59-1.43-.59-.52 0-1.04.2-1.43.59L10.3 9.45l-7.72 7.72c-.78.78-.78 2.05 0 2.83L4 21.41c.39.39.9.59 1.41.59.51 0 1.02-.2 1.41-.59l7.78-7.78 2.81-2.81c.8-.78.8-2.07 0-2.86zM5.41 20L4 18.59l7.72-7.72 1.47 1.35L5.41 20z\"/>\n",
              "  </svg>\n",
              "      </button>\n",
              "      \n",
              "  <style>\n",
              "    .colab-df-container {\n",
              "      display:flex;\n",
              "      flex-wrap:wrap;\n",
              "      gap: 12px;\n",
              "    }\n",
              "\n",
              "    .colab-df-convert {\n",
              "      background-color: #E8F0FE;\n",
              "      border: none;\n",
              "      border-radius: 50%;\n",
              "      cursor: pointer;\n",
              "      display: none;\n",
              "      fill: #1967D2;\n",
              "      height: 32px;\n",
              "      padding: 0 0 0 0;\n",
              "      width: 32px;\n",
              "    }\n",
              "\n",
              "    .colab-df-convert:hover {\n",
              "      background-color: #E2EBFA;\n",
              "      box-shadow: 0px 1px 2px rgba(60, 64, 67, 0.3), 0px 1px 3px 1px rgba(60, 64, 67, 0.15);\n",
              "      fill: #174EA6;\n",
              "    }\n",
              "\n",
              "    [theme=dark] .colab-df-convert {\n",
              "      background-color: #3B4455;\n",
              "      fill: #D2E3FC;\n",
              "    }\n",
              "\n",
              "    [theme=dark] .colab-df-convert:hover {\n",
              "      background-color: #434B5C;\n",
              "      box-shadow: 0px 1px 3px 1px rgba(0, 0, 0, 0.15);\n",
              "      filter: drop-shadow(0px 1px 2px rgba(0, 0, 0, 0.3));\n",
              "      fill: #FFFFFF;\n",
              "    }\n",
              "  </style>\n",
              "\n",
              "      <script>\n",
              "        const buttonEl =\n",
              "          document.querySelector('#df-757d7ed8-77e8-4f85-a624-17a57508cab8 button.colab-df-convert');\n",
              "        buttonEl.style.display =\n",
              "          google.colab.kernel.accessAllowed ? 'block' : 'none';\n",
              "\n",
              "        async function convertToInteractive(key) {\n",
              "          const element = document.querySelector('#df-757d7ed8-77e8-4f85-a624-17a57508cab8');\n",
              "          const dataTable =\n",
              "            await google.colab.kernel.invokeFunction('convertToInteractive',\n",
              "                                                     [key], {});\n",
              "          if (!dataTable) return;\n",
              "\n",
              "          const docLinkHtml = 'Like what you see? Visit the ' +\n",
              "            '<a target=\"_blank\" href=https://colab.research.google.com/notebooks/data_table.ipynb>data table notebook</a>'\n",
              "            + ' to learn more about interactive tables.';\n",
              "          element.innerHTML = '';\n",
              "          dataTable['output_type'] = 'display_data';\n",
              "          await google.colab.output.renderOutput(dataTable, element);\n",
              "          const docLink = document.createElement('div');\n",
              "          docLink.innerHTML = docLinkHtml;\n",
              "          element.appendChild(docLink);\n",
              "        }\n",
              "      </script>\n",
              "    </div>\n",
              "  </div>\n",
              "  "
            ]
          },
          "metadata": {},
          "execution_count": 14
        }
      ],
      "source": [
        "df.corr()"
      ]
    },
    {
      "cell_type": "code",
      "execution_count": 15,
      "id": "09f288fd",
      "metadata": {
        "colab": {
          "base_uri": "https://localhost:8080/",
          "height": 772
        },
        "id": "09f288fd",
        "outputId": "175e8950-3d3a-4158-a4cb-5d79970e9173"
      },
      "outputs": [
        {
          "output_type": "execute_result",
          "data": {
            "text/plain": [
              "<matplotlib.axes._subplots.AxesSubplot at 0x7f9587ba1cd0>"
            ]
          },
          "metadata": {},
          "execution_count": 15
        },
        {
          "output_type": "display_data",
          "data": {
            "text/plain": [
              "<Figure size 1080x720 with 2 Axes>"
            ],
            "image/png": "[encoded data removed]"
          },
          "metadata": {
            "needs_background": "light"
          }
        }
      ],
      "source": [
        "plt.subplots(figsize=(15,10)) \n",
        "sns.heatmap(df.corr() , annot=True)"
      ]
    },
    {
      "cell_type": "markdown",
      "id": "838c4e78",
      "metadata": {
        "id": "838c4e78"
      },
      "source": [
        "# Basic Visualization using Seaborn Library"
      ]
    },
    {
      "cell_type": "code",
      "execution_count": 16,
      "id": "093a4314",
      "metadata": {
        "colab": {
          "base_uri": "https://localhost:8080/",
          "height": 623
        },
        "id": "093a4314",
        "outputId": "42da61e6-aaaf-48e4-e2d5-a9c0db7f9284"
      },
      "outputs": [
        {
          "output_type": "execute_result",
          "data": {
            "text/plain": [
              "<matplotlib.axes._subplots.AxesSubplot at 0x7f958498f290>"
            ]
          },
          "metadata": {},
          "execution_count": 16
        },
        {
          "output_type": "display_data",
          "data": {
            "text/plain": [
              "<Figure size 720x720 with 1 Axes>"
            ],
            "image/png": "[encoded data removed]"
          },
          "metadata": {
            "needs_background": "light"
          }
        }
      ],
      "source": [
        "plt.subplots(figsize=(10,10)) \n",
        "sns.countplot( x = 'Click', hue='Phishing Status', data=df )"
      ]
    },
    {
      "cell_type": "code",
      "execution_count": 17,
      "id": "f045f115",
      "metadata": {
        "colab": {
          "base_uri": "https://localhost:8080/",
          "height": 623
        },
        "id": "f045f115",
        "outputId": "e98feb54-9815-4e81-a070-04db8d41fd92"
      },
      "outputs": [
        {
          "output_type": "execute_result",
          "data": {
            "text/plain": [
              "<matplotlib.axes._subplots.AxesSubplot at 0x7f9582fef790>"
            ]
          },
          "metadata": {},
          "execution_count": 17
        },
        {
          "output_type": "display_data",
          "data": {
            "text/plain": [
              "<Figure size 720x720 with 1 Axes>"
            ],
            "image/png": "[encoded data removed]"
          },
          "metadata": {
            "needs_background": "light"
          }
        }
      ],
      "source": [
        "plt.subplots(figsize=(10,10))\n",
        "sns.countplot(x = 'Inconvenience', hue='Phishing Status', data=df)"
      ]
    },
    {
      "cell_type": "code",
      "execution_count": 18,
      "id": "0a41a1d0",
      "metadata": {
        "colab": {
          "base_uri": "https://localhost:8080/",
          "height": 351
        },
        "id": "0a41a1d0",
        "outputId": "9704ecd3-7d93-469a-f939-2fabe6a3bd7e"
      },
      "outputs": [
        {
          "output_type": "execute_result",
          "data": {
            "text/plain": [
              "<matplotlib.axes._subplots.AxesSubplot at 0x7f9582f694d0>"
            ]
          },
          "metadata": {},
          "execution_count": 18
        },
        {
          "output_type": "display_data",
          "data": {
            "text/plain": [
              "<Figure size 720x360 with 1 Axes>"
            ],
            "image/png": "[encoded data removed]"
          },
          "metadata": {
            "needs_background": "light"
          }
        }
      ],
      "source": [
        "plt.subplots(figsize=(10,5))\n",
        "sns.countplot(x = 'Service', hue='Phishing Status', data=df)"
      ]
    },
    {
      "cell_type": "code",
      "execution_count": 19,
      "id": "1e3ee2ae",
      "metadata": {
        "colab": {
          "base_uri": "https://localhost:8080/",
          "height": 296
        },
        "id": "1e3ee2ae",
        "outputId": "03ce241b-65a6-44f8-c0ab-2b12630a6438"
      },
      "outputs": [
        {
          "output_type": "execute_result",
          "data": {
            "text/plain": [
              "<matplotlib.axes._subplots.AxesSubplot at 0x7f9582da3710>"
            ]
          },
          "metadata": {},
          "execution_count": 19
        },
        {
          "output_type": "display_data",
          "data": {
            "text/plain": [
              "<Figure size 432x288 with 1 Axes>"
            ],
            "image/png": "[encoded data removed]"
          },
          "metadata": {
            "needs_background": "light"
          }
        }
      ],
      "source": [
        "sns.countplot(x = 'Suspended',hue='Phishing Status', data=df)"
      ]
    },
    {
      "cell_type": "code",
      "execution_count": 20,
      "id": "0b89b7d8",
      "metadata": {
        "colab": {
          "base_uri": "https://localhost:8080/",
          "height": 296
        },
        "id": "0b89b7d8",
        "outputId": "096fa125-f816-4d51-fa51-a1cfed87b898"
      },
      "outputs": [
        {
          "output_type": "execute_result",
          "data": {
            "text/plain": [
              "<matplotlib.axes._subplots.AxesSubplot at 0x7f9582d59910>"
            ]
          },
          "metadata": {},
          "execution_count": 20
        },
        {
          "output_type": "display_data",
          "data": {
            "text/plain": [
              "<Figure size 432x288 with 1 Axes>"
            ],
            "image/png": "[encoded data removed]"
          },
          "metadata": {
            "needs_background": "light"
          }
        }
      ],
      "source": [
        "sns.countplot(x = 'Social',hue='Phishing Status', data=df)"
      ]
    },
    {
      "cell_type": "markdown",
      "id": "37c306c5",
      "metadata": {
        "id": "37c306c5"
      },
      "source": [
        "# Preprocess the dataset"
      ]
    },
    {
      "cell_type": "code",
      "execution_count": 20,
      "id": "c07aca8f",
      "metadata": {
        "id": "c07aca8f"
      },
      "outputs": [],
      "source": [
        ""
      ]
    },
    {
      "cell_type": "code",
      "execution_count": 21,
      "id": "b90db316",
      "metadata": {
        "colab": {
          "base_uri": "https://localhost:8080/"
        },
        "id": "b90db316",
        "outputId": "86e0a5f8-36c6-42ed-9024-d49c6e1fb1cd"
      },
      "outputs": [
        {
          "output_type": "execute_result",
          "data": {
            "text/plain": [
              "(451085, 22)"
            ]
          },
          "metadata": {},
          "execution_count": 21
        }
      ],
      "source": [
        "df.shape"
      ]
    },
    {
      "cell_type": "code",
      "execution_count": 22,
      "id": "45f8da10",
      "metadata": {
        "colab": {
          "base_uri": "https://localhost:8080/",
          "height": 369
        },
        "id": "45f8da10",
        "outputId": "a1a683f8-af71-471a-eebd-e1c137376b29"
      },
      "outputs": [
        {
          "output_type": "execute_result",
          "data": {
            "text/plain": [
              "   Total Number of Characters C  Vocabulary richness W/C  Account  Access  \\\n",
              "0                          1673                 0.128512        2       0   \n",
              "1                          4465                 0.137738        0       0   \n",
              "2                          6813                 0.095993        0       0   \n",
              "3                          1518                 0.109354        0       0   \n",
              "4                          1881                 0.126528        7       3   \n",
              "\n",
              "   Bank  Credit  Click  Identity  Inconvenience  Information  ...  Password  \\\n",
              "0     0       0      1         0              0            1  ...         1   \n",
              "1     0       0      0         0              0            4  ...         0   \n",
              "2     0       2      0         0              0            2  ...         0   \n",
              "3     0       1      1         0              0            0  ...         0   \n",
              "4     0       0      0         1              0            2  ...         0   \n",
              "\n",
              "   Recently  Risk  Social  Security  Service  Suspended  \\\n",
              "0         1     0       0         0        0          0   \n",
              "1         0     0       0         3        1          0   \n",
              "2         0     0       0         0        0          0   \n",
              "3         0     0       0         0        0          0   \n",
              "4         0     0       0         0        0          2   \n",
              "\n",
              "   Total number of Function words/W  Unique Words  Phishing Status  \n",
              "0                          0.027907           132                1  \n",
              "1                          0.013008           338                1  \n",
              "2                          0.006116           292                1  \n",
              "3                          0.012048           102                1  \n",
              "4                          0.063025           136                1  \n",
              "\n",
              "[5 rows x 22 columns]"
            ],
            "text/html": [
              "\n",
              "  <div id=\"df-2bd5022a-7d61-4602-9d28-ec287f485c7e\">\n",
              "    <div class=\"colab-df-container\">\n",
              "      <div>\n",
              "<style scoped>\n",
              "    .dataframe tbody tr th:only-of-type {\n",
              "        vertical-align: middle;\n",
              "    }\n",
              "\n",
              "    .dataframe tbody tr th {\n",
              "        vertical-align: top;\n",
              "    }\n",
              "\n",
              "    .dataframe thead th {\n",
              "        text-align: right;\n",
              "    }\n",
              "</style>\n",
              "<table border=\"1\" class=\"dataframe\">\n",
              "  <thead>\n",
              "    <tr style=\"text-align: right;\">\n",
              "      <th></th>\n",
              "      <th>Total Number of Characters C</th>\n",
              "      <th>Vocabulary richness W/C</th>\n",
              "      <th>Account</th>\n",
              "      <th>Access</th>\n",
              "      <th>Bank</th>\n",
              "      <th>Credit</th>\n",
              "      <th>Click</th>\n",
              "      <th>Identity</th>\n",
              "      <th>Inconvenience</th>\n",
              "      <th>Information</th>\n",
              "      <th>...</th>\n",
              "      <th>Password</th>\n",
              "      <th>Recently</th>\n",
              "      <th>Risk</th>\n",
              "      <th>Social</th>\n",
              "      <th>Security</th>\n",
              "      <th>Service</th>\n",
              "      <th>Suspended</th>\n",
              "      <th>Total number of Function words/W</th>\n",
              "      <th>Unique Words</th>\n",
              "      <th>Phishing Status</th>\n",
              "    </tr>\n",
              "  </thead>\n",
              "  <tbody>\n",
              "    <tr>\n",
              "      <th>0</th>\n",
              "      <td>1673</td>\n",
              "      <td>0.128512</td>\n",
              "      <td>2</td>\n",
              "      <td>0</td>\n",
              "      <td>0</td>\n",
              "      <td>0</td>\n",
              "      <td>1</td>\n",
              "      <td>0</td>\n",
              "      <td>0</td>\n",
              "      <td>1</td>\n",
              "      <td>...</td>\n",
              "      <td>1</td>\n",
              "      <td>1</td>\n",
              "      <td>0</td>\n",
              "      <td>0</td>\n",
              "      <td>0</td>\n",
              "      <td>0</td>\n",
              "      <td>0</td>\n",
              "      <td>0.027907</td>\n",
              "      <td>132</td>\n",
              "      <td>1</td>\n",
              "    </tr>\n",
              "    <tr>\n",
              "      <th>1</th>\n",
              "      <td>4465</td>\n",
              "      <td>0.137738</td>\n",
              "      <td>0</td>\n",
              "      <td>0</td>\n",
              "      <td>0</td>\n",
              "      <td>0</td>\n",
              "      <td>0</td>\n",
              "      <td>0</td>\n",
              "      <td>0</td>\n",
              "      <td>4</td>\n",
              "      <td>...</td>\n",
              "      <td>0</td>\n",
              "      <td>0</td>\n",
              "      <td>0</td>\n",
              "      <td>0</td>\n",
              "      <td>3</td>\n",
              "      <td>1</td>\n",
              "      <td>0</td>\n",
              "      <td>0.013008</td>\n",
              "      <td>338</td>\n",
              "      <td>1</td>\n",
              "    </tr>\n",
              "    <tr>\n",
              "      <th>2</th>\n",
              "      <td>6813</td>\n",
              "      <td>0.095993</td>\n",
              "      <td>0</td>\n",
              "      <td>0</td>\n",
              "      <td>0</td>\n",
              "      <td>2</td>\n",
              "      <td>0</td>\n",
              "      <td>0</td>\n",
              "      <td>0</td>\n",
              "      <td>2</td>\n",
              "      <td>...</td>\n",
              "      <td>0</td>\n",
              "      <td>0</td>\n",
              "      <td>0</td>\n",
              "      <td>0</td>\n",
              "      <td>0</td>\n",
              "      <td>0</td>\n",
              "      <td>0</td>\n",
              "      <td>0.006116</td>\n",
              "      <td>292</td>\n",
              "      <td>1</td>\n",
              "    </tr>\n",
              "    <tr>\n",
              "      <th>3</th>\n",
              "      <td>1518</td>\n",
              "      <td>0.109354</td>\n",
              "      <td>0</td>\n",
              "      <td>0</td>\n",
              "      <td>0</td>\n",
              "      <td>1</td>\n",
              "      <td>1</td>\n",
              "      <td>0</td>\n",
              "      <td>0</td>\n",
              "      <td>0</td>\n",
              "      <td>...</td>\n",
              "      <td>0</td>\n",
              "      <td>0</td>\n",
              "      <td>0</td>\n",
              "      <td>0</td>\n",
              "      <td>0</td>\n",
              "      <td>0</td>\n",
              "      <td>0</td>\n",
              "      <td>0.012048</td>\n",
              "      <td>102</td>\n",
              "      <td>1</td>\n",
              "    </tr>\n",
              "    <tr>\n",
              "      <th>4</th>\n",
              "      <td>1881</td>\n",
              "      <td>0.126528</td>\n",
              "      <td>7</td>\n",
              "      <td>3</td>\n",
              "      <td>0</td>\n",
              "      <td>0</td>\n",
              "      <td>0</td>\n",
              "      <td>1</td>\n",
              "      <td>0</td>\n",
              "      <td>2</td>\n",
              "      <td>...</td>\n",
              "      <td>0</td>\n",
              "      <td>0</td>\n",
              "      <td>0</td>\n",
              "      <td>0</td>\n",
              "      <td>0</td>\n",
              "      <td>0</td>\n",
              "      <td>2</td>\n",
              "      <td>0.063025</td>\n",
              "      <td>136</td>\n",
              "      <td>1</td>\n",
              "    </tr>\n",
              "  </tbody>\n",
              "</table>\n",
              "<p>5 rows × 22 columns</p>\n",
              "</div>\n",
              "      <button class=\"colab-df-convert\" onclick=\"convertToInteractive('df-2bd5022a-7d61-4602-9d28-ec287f485c7e')\"\n",
              "              title=\"Convert this dataframe to an interactive table.\"\n",
              "              style=\"display:none;\">\n",
              "        \n",
              "  <svg xmlns=\"http://www.w3.org/2000/svg\" height=\"24px\"viewBox=\"0 0 24 24\"\n",
              "       width=\"24px\">\n",
              "    <path d=\"M0 0h24v24H0V0z\" fill=\"none\"/>\n",
              "    <path d=\"M18.56 5.44l.94 2.06.94-2.06 2.06-.94-2.06-.94-.94-2.06-.94 2.06-2.06.94zm-11 1L8.5 8.5l.94-2.06 2.06-.94-2.06-.94L8.5 2.5l-.94 2.06-2.06.94zm10 10l.94 2.06.94-2.06 2.06-.94-2.06-.94-.94-2.06-.94 2.06-2.06.94z\"/><path d=\"M17.41 7.96l-1.37-1.37c-.4-.4-.92-.59-1.43-.59-.52 0-1.04.2-1.43.59L10.3 9.45l-7.72 7.72c-.78.78-.78 2.05 0 2.83L4 21.41c.39.39.9.59 1.41.59.51 0 1.02-.2 1.41-.59l7.78-7.78 2.81-2.81c.8-.78.8-2.07 0-2.86zM5.41 20L4 18.59l7.72-7.72 1.47 1.35L5.41 20z\"/>\n",
              "  </svg>\n",
              "      </button>\n",
              "      \n",
              "  <style>\n",
              "    .colab-df-container {\n",
              "      display:flex;\n",
              "      flex-wrap:wrap;\n",
              "      gap: 12px;\n",
              "    }\n",
              "\n",
              "    .colab-df-convert {\n",
              "      background-color: #E8F0FE;\n",
              "      border: none;\n",
              "      border-radius: 50%;\n",
              "      cursor: pointer;\n",
              "      display: none;\n",
              "      fill: #1967D2;\n",
              "      height: 32px;\n",
              "      padding: 0 0 0 0;\n",
              "      width: 32px;\n",
              "    }\n",
              "\n",
              "    .colab-df-convert:hover {\n",
              "      background-color: #E2EBFA;\n",
              "      box-shadow: 0px 1px 2px rgba(60, 64, 67, 0.3), 0px 1px 3px 1px rgba(60, 64, 67, 0.15);\n",
              "      fill: #174EA6;\n",
              "    }\n",
              "\n",
              "    [theme=dark] .colab-df-convert {\n",
              "      background-color: #3B4455;\n",
              "      fill: #D2E3FC;\n",
              "    }\n",
              "\n",
              "    [theme=dark] .colab-df-convert:hover {\n",
              "      background-color: #434B5C;\n",
              "      box-shadow: 0px 1px 3px 1px rgba(0, 0, 0, 0.15);\n",
              "      filter: drop-shadow(0px 1px 2px rgba(0, 0, 0, 0.3));\n",
              "      fill: #FFFFFF;\n",
              "    }\n",
              "  </style>\n",
              "\n",
              "      <script>\n",
              "        const buttonEl =\n",
              "          document.querySelector('#df-2bd5022a-7d61-4602-9d28-ec287f485c7e button.colab-df-convert');\n",
              "        buttonEl.style.display =\n",
              "          google.colab.kernel.accessAllowed ? 'block' : 'none';\n",
              "\n",
              "        async function convertToInteractive(key) {\n",
              "          const element = document.querySelector('#df-2bd5022a-7d61-4602-9d28-ec287f485c7e');\n",
              "          const dataTable =\n",
              "            await google.colab.kernel.invokeFunction('convertToInteractive',\n",
              "                                                     [key], {});\n",
              "          if (!dataTable) return;\n",
              "\n",
              "          const docLinkHtml = 'Like what you see? Visit the ' +\n",
              "            '<a target=\"_blank\" href=https://colab.research.google.com/notebooks/data_table.ipynb>data table notebook</a>'\n",
              "            + ' to learn more about interactive tables.';\n",
              "          element.innerHTML = '';\n",
              "          dataTable['output_type'] = 'display_data';\n",
              "          await google.colab.output.renderOutput(dataTable, element);\n",
              "          const docLink = document.createElement('div');\n",
              "          docLink.innerHTML = docLinkHtml;\n",
              "          element.appendChild(docLink);\n",
              "        }\n",
              "      </script>\n",
              "    </div>\n",
              "  </div>\n",
              "  "
            ]
          },
          "metadata": {},
          "execution_count": 22
        }
      ],
      "source": [
        "df.head()"
      ]
    },
    {
      "cell_type": "markdown",
      "id": "cf918f2f",
      "metadata": {
        "id": "cf918f2f"
      },
      "source": [
        "# seperate x, y"
      ]
    },
    {
      "cell_type": "code",
      "execution_count": 23,
      "id": "1daf8a2d",
      "metadata": {
        "id": "1daf8a2d"
      },
      "outputs": [],
      "source": [
        "x = df.drop('Phishing Status',axis=1) #separate dependent and independent variable\n",
        "y = df['Phishing Status']"
      ]
    },
    {
      "cell_type": "code",
      "execution_count": 24,
      "id": "72bcca90",
      "metadata": {
        "colab": {
          "base_uri": "https://localhost:8080/",
          "height": 369
        },
        "id": "72bcca90",
        "outputId": "8a130196-932f-4a07-e5b0-75d08c561343"
      },
      "outputs": [
        {
          "output_type": "execute_result",
          "data": {
            "text/plain": [
              "   Total Number of Characters C  Vocabulary richness W/C  Account  Access  \\\n",
              "0                          1673                 0.128512        2       0   \n",
              "1                          4465                 0.137738        0       0   \n",
              "2                          6813                 0.095993        0       0   \n",
              "3                          1518                 0.109354        0       0   \n",
              "4                          1881                 0.126528        7       3   \n",
              "\n",
              "   Bank  Credit  Click  Identity  Inconvenience  Information  ...  Minutes  \\\n",
              "0     0       0      1         0              0            1  ...        0   \n",
              "1     0       0      0         0              0            4  ...        0   \n",
              "2     0       2      0         0              0            2  ...        0   \n",
              "3     0       1      1         0              0            0  ...        0   \n",
              "4     0       0      0         1              0            2  ...        0   \n",
              "\n",
              "   Password  Recently  Risk  Social  Security  Service  Suspended  \\\n",
              "0         1         1     0       0         0        0          0   \n",
              "1         0         0     0       0         3        1          0   \n",
              "2         0         0     0       0         0        0          0   \n",
              "3         0         0     0       0         0        0          0   \n",
              "4         0         0     0       0         0        0          2   \n",
              "\n",
              "   Total number of Function words/W  Unique Words  \n",
              "0                          0.027907           132  \n",
              "1                          0.013008           338  \n",
              "2                          0.006116           292  \n",
              "3                          0.012048           102  \n",
              "4                          0.063025           136  \n",
              "\n",
              "[5 rows x 21 columns]"
            ],
            "text/html": [
              "\n",
              "  <div id=\"df-34f5ded1-49f0-4319-8565-fb9c057e26d5\">\n",
              "    <div class=\"colab-df-container\">\n",
              "      <div>\n",
              "<style scoped>\n",
              "    .dataframe tbody tr th:only-of-type {\n",
              "        vertical-align: middle;\n",
              "    }\n",
              "\n",
              "    .dataframe tbody tr th {\n",
              "        vertical-align: top;\n",
              "    }\n",
              "\n",
              "    .dataframe thead th {\n",
              "        text-align: right;\n",
              "    }\n",
              "</style>\n",
              "<table border=\"1\" class=\"dataframe\">\n",
              "  <thead>\n",
              "    <tr style=\"text-align: right;\">\n",
              "      <th></th>\n",
              "      <th>Total Number of Characters C</th>\n",
              "      <th>Vocabulary richness W/C</th>\n",
              "      <th>Account</th>\n",
              "      <th>Access</th>\n",
              "      <th>Bank</th>\n",
              "      <th>Credit</th>\n",
              "      <th>Click</th>\n",
              "      <th>Identity</th>\n",
              "      <th>Inconvenience</th>\n",
              "      <th>Information</th>\n",
              "      <th>...</th>\n",
              "      <th>Minutes</th>\n",
              "      <th>Password</th>\n",
              "      <th>Recently</th>\n",
              "      <th>Risk</th>\n",
              "      <th>Social</th>\n",
              "      <th>Security</th>\n",
              "      <th>Service</th>\n",
              "      <th>Suspended</th>\n",
              "      <th>Total number of Function words/W</th>\n",
              "      <th>Unique Words</th>\n",
              "    </tr>\n",
              "  </thead>\n",
              "  <tbody>\n",
              "    <tr>\n",
              "      <th>0</th>\n",
              "      <td>1673</td>\n",
              "      <td>0.128512</td>\n",
              "      <td>2</td>\n",
              "      <td>0</td>\n",
              "      <td>0</td>\n",
              "      <td>0</td>\n",
              "      <td>1</td>\n",
              "      <td>0</td>\n",
              "      <td>0</td>\n",
              "      <td>1</td>\n",
              "      <td>...</td>\n",
              "      <td>0</td>\n",
              "      <td>1</td>\n",
              "      <td>1</td>\n",
              "      <td>0</td>\n",
              "      <td>0</td>\n",
              "      <td>0</td>\n",
              "      <td>0</td>\n",
              "      <td>0</td>\n",
              "      <td>0.027907</td>\n",
              "      <td>132</td>\n",
              "    </tr>\n",
              "    <tr>\n",
              "      <th>1</th>\n",
              "      <td>4465</td>\n",
              "      <td>0.137738</td>\n",
              "      <td>0</td>\n",
              "      <td>0</td>\n",
              "      <td>0</td>\n",
              "      <td>0</td>\n",
              "      <td>0</td>\n",
              "      <td>0</td>\n",
              "      <td>0</td>\n",
              "      <td>4</td>\n",
              "      <td>...</td>\n",
              "      <td>0</td>\n",
              "      <td>0</td>\n",
              "      <td>0</td>\n",
              "      <td>0</td>\n",
              "      <td>0</td>\n",
              "      <td>3</td>\n",
              "      <td>1</td>\n",
              "      <td>0</td>\n",
              "      <td>0.013008</td>\n",
              "      <td>338</td>\n",
              "    </tr>\n",
              "    <tr>\n",
              "      <th>2</th>\n",
              "      <td>6813</td>\n",
              "      <td>0.095993</td>\n",
              "      <td>0</td>\n",
              "      <td>0</td>\n",
              "      <td>0</td>\n",
              "      <td>2</td>\n",
              "      <td>0</td>\n",
              "      <td>0</td>\n",
              "      <td>0</td>\n",
              "      <td>2</td>\n",
              "      <td>...</td>\n",
              "      <td>0</td>\n",
              "      <td>0</td>\n",
              "      <td>0</td>\n",
              "      <td>0</td>\n",
              "      <td>0</td>\n",
              "      <td>0</td>\n",
              "      <td>0</td>\n",
              "      <td>0</td>\n",
              "      <td>0.006116</td>\n",
              "      <td>292</td>\n",
              "    </tr>\n",
              "    <tr>\n",
              "      <th>3</th>\n",
              "      <td>1518</td>\n",
              "      <td>0.109354</td>\n",
              "      <td>0</td>\n",
              "      <td>0</td>\n",
              "      <td>0</td>\n",
              "      <td>1</td>\n",
              "      <td>1</td>\n",
              "      <td>0</td>\n",
              "      <td>0</td>\n",
              "      <td>0</td>\n",
              "      <td>...</td>\n",
              "      <td>0</td>\n",
              "      <td>0</td>\n",
              "      <td>0</td>\n",
              "      <td>0</td>\n",
              "      <td>0</td>\n",
              "      <td>0</td>\n",
              "      <td>0</td>\n",
              "      <td>0</td>\n",
              "      <td>0.012048</td>\n",
              "      <td>102</td>\n",
              "    </tr>\n",
              "    <tr>\n",
              "      <th>4</th>\n",
              "      <td>1881</td>\n",
              "      <td>0.126528</td>\n",
              "      <td>7</td>\n",
              "      <td>3</td>\n",
              "      <td>0</td>\n",
              "      <td>0</td>\n",
              "      <td>0</td>\n",
              "      <td>1</td>\n",
              "      <td>0</td>\n",
              "      <td>2</td>\n",
              "      <td>...</td>\n",
              "      <td>0</td>\n",
              "      <td>0</td>\n",
              "      <td>0</td>\n",
              "      <td>0</td>\n",
              "      <td>0</td>\n",
              "      <td>0</td>\n",
              "      <td>0</td>\n",
              "      <td>2</td>\n",
              "      <td>0.063025</td>\n",
              "      <td>136</td>\n",
              "    </tr>\n",
              "  </tbody>\n",
              "</table>\n",
              "<p>5 rows × 21 columns</p>\n",
              "</div>\n",
              "      <button class=\"colab-df-convert\" onclick=\"convertToInteractive('df-34f5ded1-49f0-4319-8565-fb9c057e26d5')\"\n",
              "              title=\"Convert this dataframe to an interactive table.\"\n",
              "              style=\"display:none;\">\n",
              "        \n",
              "  <svg xmlns=\"http://www.w3.org/2000/svg\" height=\"24px\"viewBox=\"0 0 24 24\"\n",
              "       width=\"24px\">\n",
              "    <path d=\"M0 0h24v24H0V0z\" fill=\"none\"/>\n",
              "    <path d=\"M18.56 5.44l.94 2.06.94-2.06 2.06-.94-2.06-.94-.94-2.06-.94 2.06-2.06.94zm-11 1L8.5 8.5l.94-2.06 2.06-.94-2.06-.94L8.5 2.5l-.94 2.06-2.06.94zm10 10l.94 2.06.94-2.06 2.06-.94-2.06-.94-.94-2.06-.94 2.06-2.06.94z\"/><path d=\"M17.41 7.96l-1.37-1.37c-.4-.4-.92-.59-1.43-.59-.52 0-1.04.2-1.43.59L10.3 9.45l-7.72 7.72c-.78.78-.78 2.05 0 2.83L4 21.41c.39.39.9.59 1.41.59.51 0 1.02-.2 1.41-.59l7.78-7.78 2.81-2.81c.8-.78.8-2.07 0-2.86zM5.41 20L4 18.59l7.72-7.72 1.47 1.35L5.41 20z\"/>\n",
              "  </svg>\n",
              "      </button>\n",
              "      \n",
              "  <style>\n",
              "    .colab-df-container {\n",
              "      display:flex;\n",
              "      flex-wrap:wrap;\n",
              "      gap: 12px;\n",
              "    }\n",
              "\n",
              "    .colab-df-convert {\n",
              "      background-color: #E8F0FE;\n",
              "      border: none;\n",
              "      border-radius: 50%;\n",
              "      cursor: pointer;\n",
              "      display: none;\n",
              "      fill: #1967D2;\n",
              "      height: 32px;\n",
              "      padding: 0 0 0 0;\n",
              "      width: 32px;\n",
              "    }\n",
              "\n",
              "    .colab-df-convert:hover {\n",
              "      background-color: #E2EBFA;\n",
              "      box-shadow: 0px 1px 2px rgba(60, 64, 67, 0.3), 0px 1px 3px 1px rgba(60, 64, 67, 0.15);\n",
              "      fill: #174EA6;\n",
              "    }\n",
              "\n",
              "    [theme=dark] .colab-df-convert {\n",
              "      background-color: #3B4455;\n",
              "      fill: #D2E3FC;\n",
              "    }\n",
              "\n",
              "    [theme=dark] .colab-df-convert:hover {\n",
              "      background-color: #434B5C;\n",
              "      box-shadow: 0px 1px 3px 1px rgba(0, 0, 0, 0.15);\n",
              "      filter: drop-shadow(0px 1px 2px rgba(0, 0, 0, 0.3));\n",
              "      fill: #FFFFFF;\n",
              "    }\n",
              "  </style>\n",
              "\n",
              "      <script>\n",
              "        const buttonEl =\n",
              "          document.querySelector('#df-34f5ded1-49f0-4319-8565-fb9c057e26d5 button.colab-df-convert');\n",
              "        buttonEl.style.display =\n",
              "          google.colab.kernel.accessAllowed ? 'block' : 'none';\n",
              "\n",
              "        async function convertToInteractive(key) {\n",
              "          const element = document.querySelector('#df-34f5ded1-49f0-4319-8565-fb9c057e26d5');\n",
              "          const dataTable =\n",
              "            await google.colab.kernel.invokeFunction('convertToInteractive',\n",
              "                                                     [key], {});\n",
              "          if (!dataTable) return;\n",
              "\n",
              "          const docLinkHtml = 'Like what you see? Visit the ' +\n",
              "            '<a target=\"_blank\" href=https://colab.research.google.com/notebooks/data_table.ipynb>data table notebook</a>'\n",
              "            + ' to learn more about interactive tables.';\n",
              "          element.innerHTML = '';\n",
              "          dataTable['output_type'] = 'display_data';\n",
              "          await google.colab.output.renderOutput(dataTable, element);\n",
              "          const docLink = document.createElement('div');\n",
              "          docLink.innerHTML = docLinkHtml;\n",
              "          element.appendChild(docLink);\n",
              "        }\n",
              "      </script>\n",
              "    </div>\n",
              "  </div>\n",
              "  "
            ]
          },
          "metadata": {},
          "execution_count": 24
        }
      ],
      "source": [
        "x.head()"
      ]
    },
    {
      "cell_type": "code",
      "execution_count": 25,
      "id": "d8acf9a7",
      "metadata": {
        "colab": {
          "base_uri": "https://localhost:8080/"
        },
        "id": "d8acf9a7",
        "outputId": "e9613894-efcd-4e3c-9839-228db10fc03e"
      },
      "outputs": [
        {
          "output_type": "execute_result",
          "data": {
            "text/plain": [
              "(451085, 21)"
            ]
          },
          "metadata": {},
          "execution_count": 25
        }
      ],
      "source": [
        "x.shape"
      ]
    },
    {
      "cell_type": "code",
      "execution_count": 26,
      "id": "56e1cc63",
      "metadata": {
        "colab": {
          "base_uri": "https://localhost:8080/"
        },
        "id": "56e1cc63",
        "outputId": "e50e7b1b-08b1-4386-92e2-02abd39aa953"
      },
      "outputs": [
        {
          "output_type": "execute_result",
          "data": {
            "text/plain": [
              "0    1\n",
              "1    1\n",
              "2    1\n",
              "3    1\n",
              "4    1\n",
              "Name: Phishing Status, dtype: int64"
            ]
          },
          "metadata": {},
          "execution_count": 26
        }
      ],
      "source": [
        "y.head()"
      ]
    },
    {
      "cell_type": "code",
      "execution_count": 27,
      "id": "175368dc",
      "metadata": {
        "colab": {
          "base_uri": "https://localhost:8080/"
        },
        "id": "175368dc",
        "outputId": "77459a1a-87b3-496a-a825-a8b25da69ac7"
      },
      "outputs": [
        {
          "output_type": "execute_result",
          "data": {
            "text/plain": [
              "(451085,)"
            ]
          },
          "metadata": {},
          "execution_count": 27
        }
      ],
      "source": [
        "y.shape"
      ]
    },
    {
      "cell_type": "markdown",
      "id": "325b2d58",
      "metadata": {
        "id": "325b2d58"
      },
      "source": [
        "# Imbalanced Data Handling "
      ]
    },
    {
      "cell_type": "code",
      "execution_count": 28,
      "id": "2c551c01",
      "metadata": {
        "colab": {
          "base_uri": "https://localhost:8080/"
        },
        "id": "2c551c01",
        "outputId": "dbf7007d-78e6-4292-94a3-70a6b8c0965c"
      },
      "outputs": [
        {
          "output_type": "execute_result",
          "data": {
            "text/plain": [
              "0    442845\n",
              "1      8240\n",
              "Name: Phishing Status, dtype: int64"
            ]
          },
          "metadata": {},
          "execution_count": 28
        }
      ],
      "source": [
        "df['Phishing Status'].value_counts()"
      ]
    },
    {
      "cell_type": "code",
      "execution_count": 29,
      "id": "971c05d7",
      "metadata": {
        "id": "971c05d7"
      },
      "outputs": [],
      "source": [
        "Phishing_Status_0 = (442845/(442845+8240)) * 100\n",
        "Phishing_Status_1 = (8240/(442845+8240)) * 100"
      ]
    },
    {
      "cell_type": "code",
      "execution_count": 30,
      "id": "3da97a53",
      "metadata": {
        "colab": {
          "base_uri": "https://localhost:8080/"
        },
        "id": "3da97a53",
        "outputId": "60856870-4b50-4e21-8b8a-812393a9788e"
      },
      "outputs": [
        {
          "output_type": "stream",
          "name": "stdout",
          "text": [
            "98.173293281754\n",
            "1.8267067182460068\n"
          ]
        }
      ],
      "source": [
        "print(Phishing_Status_0)\n",
        "print(Phishing_Status_1)"
      ]
    },
    {
      "cell_type": "markdown",
      "id": "0ff88d3e",
      "metadata": {
        "id": "0ff88d3e"
      },
      "source": [
        "# Synthetic Minority Oversampling Technique (SMOTETomek)"
      ]
    },
    {
      "cell_type": "code",
      "execution_count": 31,
      "id": "b3168e2c",
      "metadata": {
        "colab": {
          "base_uri": "https://localhost:8080/"
        },
        "id": "b3168e2c",
        "outputId": "51acf387-2a3b-455f-d27a-a9e19b175656"
      },
      "outputs": [
        {
          "output_type": "stream",
          "name": "stdout",
          "text": [
            "Looking in indexes: https://pypi.org/simple, https://us-python.pkg.dev/colab-wheels/public/simple/\n",
            "Requirement already satisfied: imblearn in /usr/local/lib/python3.7/dist-packages (0.0)\n",
            "Requirement already satisfied: imbalanced-learn in /usr/local/lib/python3.7/dist-packages (from imblearn) (0.8.1)\n",
            "Requirement already satisfied: numpy>=1.13.3 in /usr/local/lib/python3.7/dist-packages (from imbalanced-learn->imblearn) (1.21.6)\n",
            "Requirement already satisfied: scikit-learn>=0.24 in /usr/local/lib/python3.7/dist-packages (from imbalanced-learn->imblearn) (1.0.2)\n",
            "Requirement already satisfied: scipy>=0.19.1 in /usr/local/lib/python3.7/dist-packages (from imbalanced-learn->imblearn) (1.4.1)\n",
            "Requirement already satisfied: joblib>=0.11 in /usr/local/lib/python3.7/dist-packages (from imbalanced-learn->imblearn) (1.1.0)\n",
            "Requirement already satisfied: threadpoolctl>=2.0.0 in /usr/local/lib/python3.7/dist-packages (from scikit-learn>=0.24->imbalanced-learn->imblearn) (3.1.0)\n"
          ]
        }
      ],
      "source": [
        "!pip install imblearn"
      ]
    },
    {
      "cell_type": "code",
      "execution_count": 32,
      "id": "155fbeaa",
      "metadata": {
        "id": "155fbeaa"
      },
      "outputs": [],
      "source": [
        "from imblearn.combine import SMOTETomek"
      ]
    },
    {
      "cell_type": "code",
      "execution_count": 33,
      "id": "9df4126b",
      "metadata": {
        "id": "9df4126b"
      },
      "outputs": [],
      "source": [
        "#sm = SMOTETomek(random_state=42)"
      ]
    },
    {
      "cell_type": "code",
      "execution_count": 34,
      "id": "4e068150",
      "metadata": {
        "id": "4e068150"
      },
      "outputs": [],
      "source": [
        "#.value_counts()"
      ]
    },
    {
      "cell_type": "code",
      "execution_count": 35,
      "id": "34143702",
      "metadata": {
        "id": "34143702"
      },
      "outputs": [],
      "source": [
        "#X,Y = sm.fit_resample(x,y) # ink time lagche tai run korte parini"
      ]
    },
    {
      "cell_type": "markdown",
      "id": "9513e8e4",
      "metadata": {
        "id": "9513e8e4"
      },
      "source": [
        "# Near Miss for Under_Sampling"
      ]
    },
    {
      "cell_type": "code",
      "execution_count": 36,
      "id": "763ab3ad",
      "metadata": {
        "id": "763ab3ad"
      },
      "outputs": [],
      "source": [
        "from imblearn.under_sampling import NearMiss"
      ]
    },
    {
      "cell_type": "code",
      "execution_count": 37,
      "id": "e7d82d59",
      "metadata": {
        "id": "e7d82d59"
      },
      "outputs": [],
      "source": [
        "\n",
        "\n",
        "NearMiss_obj = NearMiss()\n",
        "new_x , new_y = NearMiss_obj.fit_resample(x,y)"
      ]
    },
    {
      "cell_type": "code",
      "execution_count": 38,
      "id": "9287365a",
      "metadata": {
        "colab": {
          "base_uri": "https://localhost:8080/",
          "height": 557
        },
        "id": "9287365a",
        "outputId": "c5ee7d5b-7578-4290-e36c-a77550e477cc"
      },
      "outputs": [
        {
          "output_type": "execute_result",
          "data": {
            "text/plain": [
              "       Total Number of Characters C  Vocabulary richness W/C  Account  Access  \\\n",
              "0                              1143                 0.066492        0       0   \n",
              "1                              1102                 0.117060        0       0   \n",
              "2                              1683                 0.101010        0       0   \n",
              "3                              1683                 0.076649        0       0   \n",
              "4                              1102                 0.094374        0       0   \n",
              "...                             ...                      ...      ...     ...   \n",
              "16475                          2439                 0.066831        0       0   \n",
              "16476                           818                 0.084352        0       0   \n",
              "16477                          2616                 0.068807        2       0   \n",
              "16478                          4003                 0.082688        4       0   \n",
              "16479                          2241                 0.060687        1       0   \n",
              "\n",
              "       Bank  Credit  Click  Identity  Inconvenience  Information  ...  \\\n",
              "0         0       0      0         0              0            0  ...   \n",
              "1         0       0      0         0              0            0  ...   \n",
              "2         0       0      0         0              0            0  ...   \n",
              "3         0       0      0         0              0            0  ...   \n",
              "4         0       0      0         0              0            0  ...   \n",
              "...     ...     ...    ...       ...            ...          ...  ...   \n",
              "16475     0       0      0         0              0            0  ...   \n",
              "16476     0       0      1         0              0            0  ...   \n",
              "16477     0       0      0         0              0            0  ...   \n",
              "16478     1       0      0         0              0            0  ...   \n",
              "16479     0       0      0         0              0            0  ...   \n",
              "\n",
              "       Minutes  Password  Recently  Risk  Social  Security  Service  \\\n",
              "0            0         0         0     0       0         0        0   \n",
              "1            0         0         0     0       0         0        0   \n",
              "2            0         0         0     0       0         0        0   \n",
              "3            0         0         0     0       0         0        0   \n",
              "4            0         0         0     0       0         0        0   \n",
              "...        ...       ...       ...   ...     ...       ...      ...   \n",
              "16475        0         0         0     0       0         0        0   \n",
              "16476        0         0         0     0       0         2        0   \n",
              "16477        0         0         0     0       0         0        0   \n",
              "16478        0         0         0     0       0         0        2   \n",
              "16479        0         0         0     0       0         0        0   \n",
              "\n",
              "       Suspended  Total number of Function words/W  Unique Words  \n",
              "0              0                          0.000000            72  \n",
              "1              0                          0.000000            57  \n",
              "2              0                          0.000000            90  \n",
              "3              0                          0.000000            90  \n",
              "4              0                          0.000000            58  \n",
              "...          ...                               ...           ...  \n",
              "16475          0                          0.000000            64  \n",
              "16476          0                          0.043478            38  \n",
              "16477          0                          0.011111           110  \n",
              "16478          0                          0.021148           150  \n",
              "16479          0                          0.007353            82  \n",
              "\n",
              "[16480 rows x 21 columns]"
            ],
            "text/html": [
              "\n",
              "  <div id=\"df-2a9ab431-2f76-4603-b793-76ccc9c40fc0\">\n",
              "    <div class=\"colab-df-container\">\n",
              "      <div>\n",
              "<style scoped>\n",
              "    .dataframe tbody tr th:only-of-type {\n",
              "        vertical-align: middle;\n",
              "    }\n",
              "\n",
              "    .dataframe tbody tr th {\n",
              "        vertical-align: top;\n",
              "    }\n",
              "\n",
              "    .dataframe thead th {\n",
              "        text-align: right;\n",
              "    }\n",
              "</style>\n",
              "<table border=\"1\" class=\"dataframe\">\n",
              "  <thead>\n",
              "    <tr style=\"text-align: right;\">\n",
              "      <th></th>\n",
              "      <th>Total Number of Characters C</th>\n",
              "      <th>Vocabulary richness W/C</th>\n",
              "      <th>Account</th>\n",
              "      <th>Access</th>\n",
              "      <th>Bank</th>\n",
              "      <th>Credit</th>\n",
              "      <th>Click</th>\n",
              "      <th>Identity</th>\n",
              "      <th>Inconvenience</th>\n",
              "      <th>Information</th>\n",
              "      <th>...</th>\n",
              "      <th>Minutes</th>\n",
              "      <th>Password</th>\n",
              "      <th>Recently</th>\n",
              "      <th>Risk</th>\n",
              "      <th>Social</th>\n",
              "      <th>Security</th>\n",
              "      <th>Service</th>\n",
              "      <th>Suspended</th>\n",
              "      <th>Total number of Function words/W</th>\n",
              "      <th>Unique Words</th>\n",
              "    </tr>\n",
              "  </thead>\n",
              "  <tbody>\n",
              "    <tr>\n",
              "      <th>0</th>\n",
              "      <td>1143</td>\n",
              "      <td>0.066492</td>\n",
              "      <td>0</td>\n",
              "      <td>0</td>\n",
              "      <td>0</td>\n",
              "      <td>0</td>\n",
              "      <td>0</td>\n",
              "      <td>0</td>\n",
              "      <td>0</td>\n",
              "      <td>0</td>\n",
              "      <td>...</td>\n",
              "      <td>0</td>\n",
              "      <td>0</td>\n",
              "      <td>0</td>\n",
              "      <td>0</td>\n",
              "      <td>0</td>\n",
              "      <td>0</td>\n",
              "      <td>0</td>\n",
              "      <td>0</td>\n",
              "      <td>0.000000</td>\n",
              "      <td>72</td>\n",
              "    </tr>\n",
              "    <tr>\n",
              "      <th>1</th>\n",
              "      <td>1102</td>\n",
              "      <td>0.117060</td>\n",
              "      <td>0</td>\n",
              "      <td>0</td>\n",
              "      <td>0</td>\n",
              "      <td>0</td>\n",
              "      <td>0</td>\n",
              "      <td>0</td>\n",
              "      <td>0</td>\n",
              "      <td>0</td>\n",
              "      <td>...</td>\n",
              "      <td>0</td>\n",
              "      <td>0</td>\n",
              "      <td>0</td>\n",
              "      <td>0</td>\n",
              "      <td>0</td>\n",
              "      <td>0</td>\n",
              "      <td>0</td>\n",
              "      <td>0</td>\n",
              "      <td>0.000000</td>\n",
              "      <td>57</td>\n",
              "    </tr>\n",
              "    <tr>\n",
              "      <th>2</th>\n",
              "      <td>1683</td>\n",
              "      <td>0.101010</td>\n",
              "      <td>0</td>\n",
              "      <td>0</td>\n",
              "      <td>0</td>\n",
              "      <td>0</td>\n",
              "      <td>0</td>\n",
              "      <td>0</td>\n",
              "      <td>0</td>\n",
              "      <td>0</td>\n",
              "      <td>...</td>\n",
              "      <td>0</td>\n",
              "      <td>0</td>\n",
              "      <td>0</td>\n",
              "      <td>0</td>\n",
              "      <td>0</td>\n",
              "      <td>0</td>\n",
              "      <td>0</td>\n",
              "      <td>0</td>\n",
              "      <td>0.000000</td>\n",
              "      <td>90</td>\n",
              "    </tr>\n",
              "    <tr>\n",
              "      <th>3</th>\n",
              "      <td>1683</td>\n",
              "      <td>0.076649</td>\n",
              "      <td>0</td>\n",
              "      <td>0</td>\n",
              "      <td>0</td>\n",
              "      <td>0</td>\n",
              "      <td>0</td>\n",
              "      <td>0</td>\n",
              "      <td>0</td>\n",
              "      <td>0</td>\n",
              "      <td>...</td>\n",
              "      <td>0</td>\n",
              "      <td>0</td>\n",
              "      <td>0</td>\n",
              "      <td>0</td>\n",
              "      <td>0</td>\n",
              "      <td>0</td>\n",
              "      <td>0</td>\n",
              "      <td>0</td>\n",
              "      <td>0.000000</td>\n",
              "      <td>90</td>\n",
              "    </tr>\n",
              "    <tr>\n",
              "      <th>4</th>\n",
              "      <td>1102</td>\n",
              "      <td>0.094374</td>\n",
              "      <td>0</td>\n",
              "      <td>0</td>\n",
              "      <td>0</td>\n",
              "      <td>0</td>\n",
              "      <td>0</td>\n",
              "      <td>0</td>\n",
              "      <td>0</td>\n",
              "      <td>0</td>\n",
              "      <td>...</td>\n",
              "      <td>0</td>\n",
              "      <td>0</td>\n",
              "      <td>0</td>\n",
              "      <td>0</td>\n",
              "      <td>0</td>\n",
              "      <td>0</td>\n",
              "      <td>0</td>\n",
              "      <td>0</td>\n",
              "      <td>0.000000</td>\n",
              "      <td>58</td>\n",
              "    </tr>\n",
              "    <tr>\n",
              "      <th>...</th>\n",
              "      <td>...</td>\n",
              "      <td>...</td>\n",
              "      <td>...</td>\n",
              "      <td>...</td>\n",
              "      <td>...</td>\n",
              "      <td>...</td>\n",
              "      <td>...</td>\n",
              "      <td>...</td>\n",
              "      <td>...</td>\n",
              "      <td>...</td>\n",
              "      <td>...</td>\n",
              "      <td>...</td>\n",
              "      <td>...</td>\n",
              "      <td>...</td>\n",
              "      <td>...</td>\n",
              "      <td>...</td>\n",
              "      <td>...</td>\n",
              "      <td>...</td>\n",
              "      <td>...</td>\n",
              "      <td>...</td>\n",
              "      <td>...</td>\n",
              "    </tr>\n",
              "    <tr>\n",
              "      <th>16475</th>\n",
              "      <td>2439</td>\n",
              "      <td>0.066831</td>\n",
              "      <td>0</td>\n",
              "      <td>0</td>\n",
              "      <td>0</td>\n",
              "      <td>0</td>\n",
              "      <td>0</td>\n",
              "      <td>0</td>\n",
              "      <td>0</td>\n",
              "      <td>0</td>\n",
              "      <td>...</td>\n",
              "      <td>0</td>\n",
              "      <td>0</td>\n",
              "      <td>0</td>\n",
              "      <td>0</td>\n",
              "      <td>0</td>\n",
              "      <td>0</td>\n",
              "      <td>0</td>\n",
              "      <td>0</td>\n",
              "      <td>0.000000</td>\n",
              "      <td>64</td>\n",
              "    </tr>\n",
              "    <tr>\n",
              "      <th>16476</th>\n",
              "      <td>818</td>\n",
              "      <td>0.084352</td>\n",
              "      <td>0</td>\n",
              "      <td>0</td>\n",
              "      <td>0</td>\n",
              "      <td>0</td>\n",
              "      <td>1</td>\n",
              "      <td>0</td>\n",
              "      <td>0</td>\n",
              "      <td>0</td>\n",
              "      <td>...</td>\n",
              "      <td>0</td>\n",
              "      <td>0</td>\n",
              "      <td>0</td>\n",
              "      <td>0</td>\n",
              "      <td>0</td>\n",
              "      <td>2</td>\n",
              "      <td>0</td>\n",
              "      <td>0</td>\n",
              "      <td>0.043478</td>\n",
              "      <td>38</td>\n",
              "    </tr>\n",
              "    <tr>\n",
              "      <th>16477</th>\n",
              "      <td>2616</td>\n",
              "      <td>0.068807</td>\n",
              "      <td>2</td>\n",
              "      <td>0</td>\n",
              "      <td>0</td>\n",
              "      <td>0</td>\n",
              "      <td>0</td>\n",
              "      <td>0</td>\n",
              "      <td>0</td>\n",
              "      <td>0</td>\n",
              "      <td>...</td>\n",
              "      <td>0</td>\n",
              "      <td>0</td>\n",
              "      <td>0</td>\n",
              "      <td>0</td>\n",
              "      <td>0</td>\n",
              "      <td>0</td>\n",
              "      <td>0</td>\n",
              "      <td>0</td>\n",
              "      <td>0.011111</td>\n",
              "      <td>110</td>\n",
              "    </tr>\n",
              "    <tr>\n",
              "      <th>16478</th>\n",
              "      <td>4003</td>\n",
              "      <td>0.082688</td>\n",
              "      <td>4</td>\n",
              "      <td>0</td>\n",
              "      <td>1</td>\n",
              "      <td>0</td>\n",
              "      <td>0</td>\n",
              "      <td>0</td>\n",
              "      <td>0</td>\n",
              "      <td>0</td>\n",
              "      <td>...</td>\n",
              "      <td>0</td>\n",
              "      <td>0</td>\n",
              "      <td>0</td>\n",
              "      <td>0</td>\n",
              "      <td>0</td>\n",
              "      <td>0</td>\n",
              "      <td>2</td>\n",
              "      <td>0</td>\n",
              "      <td>0.021148</td>\n",
              "      <td>150</td>\n",
              "    </tr>\n",
              "    <tr>\n",
              "      <th>16479</th>\n",
              "      <td>2241</td>\n",
              "      <td>0.060687</td>\n",
              "      <td>1</td>\n",
              "      <td>0</td>\n",
              "      <td>0</td>\n",
              "      <td>0</td>\n",
              "      <td>0</td>\n",
              "      <td>0</td>\n",
              "      <td>0</td>\n",
              "      <td>0</td>\n",
              "      <td>...</td>\n",
              "      <td>0</td>\n",
              "      <td>0</td>\n",
              "      <td>0</td>\n",
              "      <td>0</td>\n",
              "      <td>0</td>\n",
              "      <td>0</td>\n",
              "      <td>0</td>\n",
              "      <td>0</td>\n",
              "      <td>0.007353</td>\n",
              "      <td>82</td>\n",
              "    </tr>\n",
              "  </tbody>\n",
              "</table>\n",
              "<p>16480 rows × 21 columns</p>\n",
              "</div>\n",
              "      <button class=\"colab-df-convert\" onclick=\"convertToInteractive('df-2a9ab431-2f76-4603-b793-76ccc9c40fc0')\"\n",
              "              title=\"Convert this dataframe to an interactive table.\"\n",
              "              style=\"display:none;\">\n",
              "        \n",
              "  <svg xmlns=\"http://www.w3.org/2000/svg\" height=\"24px\"viewBox=\"0 0 24 24\"\n",
              "       width=\"24px\">\n",
              "    <path d=\"M0 0h24v24H0V0z\" fill=\"none\"/>\n",
              "    <path d=\"M18.56 5.44l.94 2.06.94-2.06 2.06-.94-2.06-.94-.94-2.06-.94 2.06-2.06.94zm-11 1L8.5 8.5l.94-2.06 2.06-.94-2.06-.94L8.5 2.5l-.94 2.06-2.06.94zm10 10l.94 2.06.94-2.06 2.06-.94-2.06-.94-.94-2.06-.94 2.06-2.06.94z\"/><path d=\"M17.41 7.96l-1.37-1.37c-.4-.4-.92-.59-1.43-.59-.52 0-1.04.2-1.43.59L10.3 9.45l-7.72 7.72c-.78.78-.78 2.05 0 2.83L4 21.41c.39.39.9.59 1.41.59.51 0 1.02-.2 1.41-.59l7.78-7.78 2.81-2.81c.8-.78.8-2.07 0-2.86zM5.41 20L4 18.59l7.72-7.72 1.47 1.35L5.41 20z\"/>\n",
              "  </svg>\n",
              "      </button>\n",
              "      \n",
              "  <style>\n",
              "    .colab-df-container {\n",
              "      display:flex;\n",
              "      flex-wrap:wrap;\n",
              "      gap: 12px;\n",
              "    }\n",
              "\n",
              "    .colab-df-convert {\n",
              "      background-color: #E8F0FE;\n",
              "      border: none;\n",
              "      border-radius: 50%;\n",
              "      cursor: pointer;\n",
              "      display: none;\n",
              "      fill: #1967D2;\n",
              "      height: 32px;\n",
              "      padding: 0 0 0 0;\n",
              "      width: 32px;\n",
              "    }\n",
              "\n",
              "    .colab-df-convert:hover {\n",
              "      background-color: #E2EBFA;\n",
              "      box-shadow: 0px 1px 2px rgba(60, 64, 67, 0.3), 0px 1px 3px 1px rgba(60, 64, 67, 0.15);\n",
              "      fill: #174EA6;\n",
              "    }\n",
              "\n",
              "    [theme=dark] .colab-df-convert {\n",
              "      background-color: #3B4455;\n",
              "      fill: #D2E3FC;\n",
              "    }\n",
              "\n",
              "    [theme=dark] .colab-df-convert:hover {\n",
              "      background-color: #434B5C;\n",
              "      box-shadow: 0px 1px 3px 1px rgba(0, 0, 0, 0.15);\n",
              "      filter: drop-shadow(0px 1px 2px rgba(0, 0, 0, 0.3));\n",
              "      fill: #FFFFFF;\n",
              "    }\n",
              "  </style>\n",
              "\n",
              "      <script>\n",
              "        const buttonEl =\n",
              "          document.querySelector('#df-2a9ab431-2f76-4603-b793-76ccc9c40fc0 button.colab-df-convert');\n",
              "        buttonEl.style.display =\n",
              "          google.colab.kernel.accessAllowed ? 'block' : 'none';\n",
              "\n",
              "        async function convertToInteractive(key) {\n",
              "          const element = document.querySelector('#df-2a9ab431-2f76-4603-b793-76ccc9c40fc0');\n",
              "          const dataTable =\n",
              "            await google.colab.kernel.invokeFunction('convertToInteractive',\n",
              "                                                     [key], {});\n",
              "          if (!dataTable) return;\n",
              "\n",
              "          const docLinkHtml = 'Like what you see? Visit the ' +\n",
              "            '<a target=\"_blank\" href=https://colab.research.google.com/notebooks/data_table.ipynb>data table notebook</a>'\n",
              "            + ' to learn more about interactive tables.';\n",
              "          element.innerHTML = '';\n",
              "          dataTable['output_type'] = 'display_data';\n",
              "          await google.colab.output.renderOutput(dataTable, element);\n",
              "          const docLink = document.createElement('div');\n",
              "          docLink.innerHTML = docLinkHtml;\n",
              "          element.appendChild(docLink);\n",
              "        }\n",
              "      </script>\n",
              "    </div>\n",
              "  </div>\n",
              "  "
            ]
          },
          "metadata": {},
          "execution_count": 38
        }
      ],
      "source": [
        "new_x"
      ]
    },
    {
      "cell_type": "code",
      "execution_count": 39,
      "id": "f6729531",
      "metadata": {
        "colab": {
          "base_uri": "https://localhost:8080/"
        },
        "id": "f6729531",
        "outputId": "987d8e1a-b62e-4673-f780-202a54034b02"
      },
      "outputs": [
        {
          "output_type": "execute_result",
          "data": {
            "text/plain": [
              "(16480, 21)"
            ]
          },
          "metadata": {},
          "execution_count": 39
        }
      ],
      "source": [
        "new_x.shape"
      ]
    },
    {
      "cell_type": "code",
      "execution_count": 40,
      "id": "fd0f1ad8",
      "metadata": {
        "colab": {
          "base_uri": "https://localhost:8080/"
        },
        "id": "fd0f1ad8",
        "outputId": "f915f8bf-4fa8-46e4-a780-d4d7c48efe9b"
      },
      "outputs": [
        {
          "output_type": "execute_result",
          "data": {
            "text/plain": [
              "0        0\n",
              "1        0\n",
              "2        0\n",
              "3        0\n",
              "4        0\n",
              "        ..\n",
              "16475    1\n",
              "16476    1\n",
              "16477    1\n",
              "16478    1\n",
              "16479    1\n",
              "Name: Phishing Status, Length: 16480, dtype: int64"
            ]
          },
          "metadata": {},
          "execution_count": 40
        }
      ],
      "source": [
        "new_y"
      ]
    },
    {
      "cell_type": "code",
      "execution_count": 41,
      "id": "e5c7f52d",
      "metadata": {
        "colab": {
          "base_uri": "https://localhost:8080/"
        },
        "id": "e5c7f52d",
        "outputId": "118f7b56-9df8-44e1-850c-375e9aa3198d"
      },
      "outputs": [
        {
          "output_type": "execute_result",
          "data": {
            "text/plain": [
              "0    8240\n",
              "1    8240\n",
              "Name: Phishing Status, dtype: int64"
            ]
          },
          "metadata": {},
          "execution_count": 41
        }
      ],
      "source": [
        "new_y.value_counts()"
      ]
    },
    {
      "cell_type": "markdown",
      "source": [
        "#model train for under sampling"
      ],
      "metadata": {
        "id": "VT0G_GUIY3XI"
      },
      "id": "VT0G_GUIY3XI"
    },
    {
      "cell_type": "markdown",
      "source": [
        "#Hold Out Cross Validation"
      ],
      "metadata": {
        "id": "lVuuCE3ab-5s"
      },
      "id": "lVuuCE3ab-5s"
    },
    {
      "cell_type": "code",
      "execution_count": 42,
      "metadata": {
        "id": "HhdLrZtBY-5S"
      },
      "outputs": [],
      "source": [
        "from sklearn.model_selection import train_test_split "
      ],
      "id": "HhdLrZtBY-5S"
    },
    {
      "cell_type": "code",
      "execution_count": 43,
      "metadata": {
        "id": "OXkv57aOY-5S"
      },
      "outputs": [],
      "source": [
        "xtrain,xtest, ytrain,ytest = train_test_split(new_x, new_y, train_size=.75,random_state=42) "
      ],
      "id": "OXkv57aOY-5S"
    },
    {
      "cell_type": "markdown",
      "source": [
        "#model train"
      ],
      "metadata": {
        "id": "ttmPer9vcDlL"
      },
      "id": "ttmPer9vcDlL"
    },
    {
      "cell_type": "code",
      "execution_count": 44,
      "metadata": {
        "id": "19769c9b"
      },
      "outputs": [],
      "source": [
        "from sklearn.linear_model import LogisticRegression\n",
        "#from sklearn.linear_model import LogisticRegression"
      ],
      "id": "19769c9b"
    },
    {
      "cell_type": "code",
      "execution_count": 45,
      "metadata": {
        "id": "7625d3fb"
      },
      "outputs": [],
      "source": [
        " logit = LogisticRegression() "
      ],
      "id": "7625d3fb"
    },
    {
      "cell_type": "code",
      "execution_count": 46,
      "metadata": {
        "id": "b500efb2",
        "outputId": "a1308666-c03e-4d01-e3ee-09b0cfdc54a8",
        "colab": {
          "base_uri": "https://localhost:8080/"
        }
      },
      "outputs": [
        {
          "output_type": "stream",
          "name": "stderr",
          "text": [
            "/usr/local/lib/python3.7/dist-packages/sklearn/linear_model/_logistic.py:818: ConvergenceWarning: lbfgs failed to converge (status=1):\n",
            "STOP: TOTAL NO. of ITERATIONS REACHED LIMIT.\n",
            "\n",
            "Increase the number of iterations (max_iter) or scale the data as shown in:\n",
            "    https://scikit-learn.org/stable/modules/preprocessing.html\n",
            "Please also refer to the documentation for alternative solver options:\n",
            "    https://scikit-learn.org/stable/modules/linear_model.html#logistic-regression\n",
            "  extra_warning_msg=_LOGISTIC_SOLVER_CONVERGENCE_MSG,\n"
          ]
        },
        {
          "output_type": "execute_result",
          "data": {
            "text/plain": [
              "LogisticRegression()"
            ]
          },
          "metadata": {},
          "execution_count": 46
        }
      ],
      "source": [
        "logit.fit(xtrain,ytrain) "
      ],
      "id": "b500efb2"
    },
    {
      "cell_type": "code",
      "execution_count": 47,
      "metadata": {
        "id": "8392422f",
        "outputId": "88cb82df-e34e-438c-b95d-59c61989d8bc",
        "colab": {
          "base_uri": "https://localhost:8080/"
        }
      },
      "outputs": [
        {
          "output_type": "execute_result",
          "data": {
            "text/plain": [
              "0.9131067961165048"
            ]
          },
          "metadata": {},
          "execution_count": 47
        }
      ],
      "source": [
        "logit.score(xtest,ytest)"
      ],
      "id": "8392422f"
    },
    {
      "cell_type": "markdown",
      "id": "f9b6422b",
      "metadata": {
        "id": "f9b6422b"
      },
      "source": [
        "# Over Sampling"
      ]
    },
    {
      "cell_type": "code",
      "source": [
        "df.shape"
      ],
      "metadata": {
        "colab": {
          "base_uri": "https://localhost:8080/"
        },
        "id": "s_0vYIJUaiBd",
        "outputId": "f933124b-a7f9-482b-88a9-535ef43f60e8"
      },
      "id": "s_0vYIJUaiBd",
      "execution_count": 48,
      "outputs": [
        {
          "output_type": "execute_result",
          "data": {
            "text/plain": [
              "(451085, 22)"
            ]
          },
          "metadata": {},
          "execution_count": 48
        }
      ]
    },
    {
      "cell_type": "code",
      "execution_count": 49,
      "id": "e2a0fa69",
      "metadata": {
        "colab": {
          "base_uri": "https://localhost:8080/"
        },
        "id": "e2a0fa69",
        "outputId": "58bf5ae6-af51-4585-fdf8-2d6a3d24bad0"
      },
      "outputs": [
        {
          "output_type": "execute_result",
          "data": {
            "text/plain": [
              "0    442845\n",
              "1      8240\n",
              "Name: Phishing Status, dtype: int64"
            ]
          },
          "metadata": {},
          "execution_count": 49
        }
      ],
      "source": [
        "df['Phishing Status'].value_counts()"
      ]
    },
    {
      "cell_type": "code",
      "execution_count": 50,
      "id": "07db1647",
      "metadata": {
        "id": "07db1647"
      },
      "outputs": [],
      "source": [
        "from imblearn.over_sampling import RandomOverSampler"
      ]
    },
    {
      "cell_type": "code",
      "execution_count": 51,
      "id": "8ad7f4f9",
      "metadata": {
        "id": "8ad7f4f9"
      },
      "outputs": [],
      "source": [
        "\n",
        "over = RandomOverSampler(random_state=100)"
      ]
    },
    {
      "cell_type": "code",
      "execution_count": 52,
      "id": "4b90c6ee",
      "metadata": {
        "id": "4b90c6ee"
      },
      "outputs": [],
      "source": [
        "x_new , y_new = over.fit_resample(x,y)"
      ]
    },
    {
      "cell_type": "code",
      "execution_count": 53,
      "id": "8856bf32",
      "metadata": {
        "colab": {
          "base_uri": "https://localhost:8080/"
        },
        "id": "8856bf32",
        "outputId": "9e4b452b-f78e-4fc3-982a-02f2c5225874"
      },
      "outputs": [
        {
          "output_type": "execute_result",
          "data": {
            "text/plain": [
              "(885690, 21)"
            ]
          },
          "metadata": {},
          "execution_count": 53
        }
      ],
      "source": [
        "x_new.shape"
      ]
    },
    {
      "cell_type": "code",
      "execution_count": 54,
      "id": "8e9c87ae",
      "metadata": {
        "colab": {
          "base_uri": "https://localhost:8080/"
        },
        "id": "8e9c87ae",
        "outputId": "d3212623-fdd2-4cb9-efb8-d7acb05dcc68"
      },
      "outputs": [
        {
          "output_type": "execute_result",
          "data": {
            "text/plain": [
              "(885690,)"
            ]
          },
          "metadata": {},
          "execution_count": 54
        }
      ],
      "source": [
        "y_new.shape"
      ]
    },
    {
      "cell_type": "code",
      "execution_count": 55,
      "id": "87c7d2ff",
      "metadata": {
        "colab": {
          "base_uri": "https://localhost:8080/"
        },
        "id": "87c7d2ff",
        "outputId": "b29a1b3e-9f88-4a6f-d487-eaf4999a7153"
      },
      "outputs": [
        {
          "output_type": "execute_result",
          "data": {
            "text/plain": [
              "1    442845\n",
              "0    442845\n",
              "Name: Phishing Status, dtype: int64"
            ]
          },
          "metadata": {},
          "execution_count": 55
        }
      ],
      "source": [
        "y_new.value_counts()"
      ]
    },
    {
      "cell_type": "markdown",
      "source": [
        "#model train for over sampling"
      ],
      "metadata": {
        "id": "zNqwTRRia1Ly"
      },
      "id": "zNqwTRRia1Ly"
    },
    {
      "cell_type": "markdown",
      "source": [
        "#Hold Out Cross Validation"
      ],
      "metadata": {
        "id": "8xiFtDR7cG0y"
      },
      "id": "8xiFtDR7cG0y"
    },
    {
      "cell_type": "code",
      "execution_count": 56,
      "metadata": {
        "id": "ADJi6Saza1Lz"
      },
      "outputs": [],
      "source": [
        "from sklearn.model_selection import train_test_split "
      ],
      "id": "ADJi6Saza1Lz"
    },
    {
      "cell_type": "code",
      "execution_count": 57,
      "metadata": {
        "id": "Bo16P3SYa1Lz"
      },
      "outputs": [],
      "source": [
        "xtrain1,xtest1, ytrain1,ytest1 = train_test_split(x_new, y_new, train_size=.75,random_state=42) "
      ],
      "id": "Bo16P3SYa1Lz"
    },
    {
      "cell_type": "markdown",
      "source": [
        "#model train"
      ],
      "metadata": {
        "id": "_tq8XOiXcI1J"
      },
      "id": "_tq8XOiXcI1J"
    },
    {
      "cell_type": "code",
      "execution_count": 58,
      "metadata": {
        "id": "tsk-nmP7a1L0"
      },
      "outputs": [],
      "source": [
        "from sklearn.linear_model import LogisticRegression\n"
      ],
      "id": "tsk-nmP7a1L0"
    },
    {
      "cell_type": "code",
      "execution_count": 59,
      "metadata": {
        "id": "wqzK9Pkia1L1"
      },
      "outputs": [],
      "source": [
        "logit1 = LogisticRegression() "
      ],
      "id": "wqzK9Pkia1L1"
    },
    {
      "cell_type": "code",
      "execution_count": 60,
      "metadata": {
        "outputId": "5e1cf8d7-8c06-4085-f83f-e016d66c0888",
        "colab": {
          "base_uri": "https://localhost:8080/"
        },
        "id": "RlTXJigta1L1"
      },
      "outputs": [
        {
          "output_type": "execute_result",
          "data": {
            "text/plain": [
              "LogisticRegression()"
            ]
          },
          "metadata": {},
          "execution_count": 60
        }
      ],
      "source": [
        "logit1.fit(xtrain1,ytrain1) "
      ],
      "id": "RlTXJigta1L1"
    },
    {
      "cell_type": "code",
      "execution_count": 61,
      "metadata": {
        "outputId": "b17e2966-2261-4394-d515-77befff38de1",
        "colab": {
          "base_uri": "https://localhost:8080/"
        },
        "id": "1W42LJnGa1L2"
      },
      "outputs": [
        {
          "output_type": "execute_result",
          "data": {
            "text/plain": [
              "0.8553266824132995"
            ]
          },
          "metadata": {},
          "execution_count": 61
        }
      ],
      "source": [
        "logit1.score(xtest1,ytest1)"
      ],
      "id": "1W42LJnGa1L2"
    },
    {
      "cell_type": "code",
      "source": [
        "#0.9131067961165048 for under_sampling\n",
        "#0.8553266824132995 for over_sampling"
      ],
      "metadata": {
        "id": "Eqg2zmPCatOA"
      },
      "id": "Eqg2zmPCatOA",
      "execution_count": 62,
      "outputs": []
    },
    {
      "cell_type": "code",
      "source": [
        ""
      ],
      "metadata": {
        "id": "M3B1VBxGatYh"
      },
      "id": "M3B1VBxGatYh",
      "execution_count": 62,
      "outputs": []
    },
    {
      "cell_type": "markdown",
      "id": "79db0939",
      "metadata": {
        "id": "79db0939"
      },
      "source": [
        "# Cross Validation"
      ]
    },
    {
      "cell_type": "markdown",
      "id": "8218dd3e",
      "metadata": {
        "id": "8218dd3e"
      },
      "source": [
        "# Hold Out Cross Validation"
      ]
    },
    {
      "cell_type": "markdown",
      "source": [
        "agei dekhe aschi"
      ],
      "metadata": {
        "id": "QSIoQRaScXhe"
      },
      "id": "QSIoQRaScXhe"
    },
    {
      "cell_type": "markdown",
      "id": "62f83409",
      "metadata": {
        "id": "62f83409"
      },
      "source": [
        "# XGBoost Classifier"
      ]
    },
    {
      "cell_type": "code",
      "execution_count": 63,
      "id": "e05f1a4b",
      "metadata": {
        "colab": {
          "base_uri": "https://localhost:8080/"
        },
        "id": "e05f1a4b",
        "outputId": "2fd26a6b-af0b-485e-9fde-bc4c62e9725e"
      },
      "outputs": [
        {
          "output_type": "stream",
          "name": "stdout",
          "text": [
            "Looking in indexes: https://pypi.org/simple, https://us-python.pkg.dev/colab-wheels/public/simple/\n",
            "Requirement already satisfied: xgboost in /usr/local/lib/python3.7/dist-packages (0.90)\n",
            "Requirement already satisfied: scipy in /usr/local/lib/python3.7/dist-packages (from xgboost) (1.4.1)\n",
            "Requirement already satisfied: numpy in /usr/local/lib/python3.7/dist-packages (from xgboost) (1.21.6)\n"
          ]
        }
      ],
      "source": [
        "!pip install xgboost"
      ]
    },
    {
      "cell_type": "code",
      "execution_count": 64,
      "id": "eff3ac04",
      "metadata": {
        "id": "eff3ac04"
      },
      "outputs": [],
      "source": [
        "import xgboost \n",
        "from xgboost import XGBClassifier"
      ]
    },
    {
      "cell_type": "code",
      "execution_count": 65,
      "id": "72ff2c0e",
      "metadata": {
        "id": "72ff2c0e"
      },
      "outputs": [],
      "source": [
        "xgb = XGBClassifier()"
      ]
    },
    {
      "cell_type": "code",
      "execution_count": 66,
      "id": "13f7e7b1",
      "metadata": {
        "colab": {
          "base_uri": "https://localhost:8080/"
        },
        "id": "13f7e7b1",
        "outputId": "24b62fba-e821-4d14-abdf-4bd4c8a14589"
      },
      "outputs": [
        {
          "output_type": "execute_result",
          "data": {
            "text/plain": [
              "XGBClassifier()"
            ]
          },
          "metadata": {},
          "execution_count": 66
        }
      ],
      "source": [
        "xgb.fit(xtrain,ytrain) #under sampling"
      ]
    },
    {
      "cell_type": "code",
      "execution_count": 67,
      "id": "d0fb67ea",
      "metadata": {
        "colab": {
          "base_uri": "https://localhost:8080/"
        },
        "id": "d0fb67ea",
        "outputId": "1d965224-6b82-49f8-e090-ea5b8adf9dc0"
      },
      "outputs": [
        {
          "output_type": "execute_result",
          "data": {
            "text/plain": [
              "0.9390776699029126"
            ]
          },
          "metadata": {},
          "execution_count": 67
        }
      ],
      "source": [
        "xgb.score(xtest,ytest)"
      ]
    },
    {
      "cell_type": "code",
      "source": [
        "#over sampling\n",
        "xgb.fit(xtrain1,ytrain1)"
      ],
      "metadata": {
        "colab": {
          "base_uri": "https://localhost:8080/"
        },
        "id": "Ke3o8hr_c5vR",
        "outputId": "a82125c2-35b9-4165-9fce-efa388ce2abb"
      },
      "id": "Ke3o8hr_c5vR",
      "execution_count": 68,
      "outputs": [
        {
          "output_type": "execute_result",
          "data": {
            "text/plain": [
              "XGBClassifier()"
            ]
          },
          "metadata": {},
          "execution_count": 68
        }
      ]
    },
    {
      "cell_type": "code",
      "source": [
        "xgb.score(xtest1,ytest1)"
      ],
      "metadata": {
        "colab": {
          "base_uri": "https://localhost:8080/"
        },
        "id": "TLfSAgGKc_o2",
        "outputId": "1e17467b-fc48-444b-b267-7449c2e12939"
      },
      "id": "TLfSAgGKc_o2",
      "execution_count": 69,
      "outputs": [
        {
          "output_type": "execute_result",
          "data": {
            "text/plain": [
              "0.9354267623507946"
            ]
          },
          "metadata": {},
          "execution_count": 69
        }
      ]
    },
    {
      "cell_type": "markdown",
      "id": "a6e57e06",
      "metadata": {
        "id": "a6e57e06"
      },
      "source": [
        "# Ada Boost"
      ]
    },
    {
      "cell_type": "code",
      "execution_count": 70,
      "id": "0038615d",
      "metadata": {
        "id": "0038615d"
      },
      "outputs": [],
      "source": [
        "from sklearn.ensemble import AdaBoostClassifier"
      ]
    },
    {
      "cell_type": "code",
      "execution_count": 71,
      "id": "f6365be3",
      "metadata": {
        "id": "f6365be3"
      },
      "outputs": [],
      "source": [
        "ada = AdaBoostClassifier()"
      ]
    },
    {
      "cell_type": "code",
      "execution_count": 72,
      "id": "045d5082",
      "metadata": {
        "colab": {
          "base_uri": "https://localhost:8080/"
        },
        "id": "045d5082",
        "outputId": "f04af7d4-93eb-440e-d090-9ea86a06327e"
      },
      "outputs": [
        {
          "output_type": "execute_result",
          "data": {
            "text/plain": [
              "AdaBoostClassifier()"
            ]
          },
          "metadata": {},
          "execution_count": 72
        }
      ],
      "source": [
        "ada.fit(xtrain,ytrain) #under sampling"
      ]
    },
    {
      "cell_type": "code",
      "execution_count": 73,
      "id": "a04bab07",
      "metadata": {
        "colab": {
          "base_uri": "https://localhost:8080/"
        },
        "id": "a04bab07",
        "outputId": "14e47a11-d027-4549-bdb4-4d87c585323b"
      },
      "outputs": [
        {
          "output_type": "execute_result",
          "data": {
            "text/plain": [
              "0.9315533980582524"
            ]
          },
          "metadata": {},
          "execution_count": 73
        }
      ],
      "source": [
        "ada.score(xtest,ytest)"
      ]
    },
    {
      "cell_type": "code",
      "source": [
        "ada.fit(xtrain1,ytrain1)#oversampling"
      ],
      "metadata": {
        "colab": {
          "base_uri": "https://localhost:8080/"
        },
        "id": "W3h2ozv4drih",
        "outputId": "bdb6fd03-04f5-4f34-8a25-7bd105d187bd"
      },
      "id": "W3h2ozv4drih",
      "execution_count": 74,
      "outputs": [
        {
          "output_type": "execute_result",
          "data": {
            "text/plain": [
              "AdaBoostClassifier()"
            ]
          },
          "metadata": {},
          "execution_count": 74
        }
      ]
    },
    {
      "cell_type": "code",
      "execution_count": 75,
      "id": "f8f89d6e",
      "metadata": {
        "colab": {
          "base_uri": "https://localhost:8080/"
        },
        "id": "f8f89d6e",
        "outputId": "88839e85-9de2-41c8-acdb-8235e8e36e11"
      },
      "outputs": [
        {
          "output_type": "execute_result",
          "data": {
            "text/plain": [
              "0.923196777209233"
            ]
          },
          "metadata": {},
          "execution_count": 75
        }
      ],
      "source": [
        "ada.score(xtest1,ytest1)"
      ]
    },
    {
      "cell_type": "markdown",
      "id": "2b089be7",
      "metadata": {
        "id": "2b089be7"
      },
      "source": [
        "# Before Sampling"
      ]
    },
    {
      "cell_type": "code",
      "execution_count": 76,
      "id": "2a3cdd3a",
      "metadata": {
        "id": "2a3cdd3a"
      },
      "outputs": [],
      "source": [
        "xtrain_b,xtest_b, ytrain_b,ytest_b = train_test_split(x, y, train_size=.75,random_state=42) "
      ]
    },
    {
      "cell_type": "code",
      "execution_count": 77,
      "id": "9b0aa16e",
      "metadata": {
        "colab": {
          "base_uri": "https://localhost:8080/"
        },
        "id": "9b0aa16e",
        "outputId": "c0fdc661-c3df-4638-99cd-0158578ffca0"
      },
      "outputs": [
        {
          "output_type": "execute_result",
          "data": {
            "text/plain": [
              "AdaBoostClassifier()"
            ]
          },
          "metadata": {},
          "execution_count": 77
        }
      ],
      "source": [
        "ada.fit(xtrain_b,ytrain_b)"
      ]
    },
    {
      "cell_type": "code",
      "execution_count": 78,
      "id": "06e4fa2a",
      "metadata": {
        "colab": {
          "base_uri": "https://localhost:8080/"
        },
        "id": "06e4fa2a",
        "outputId": "9aee242c-025d-4f63-dac8-6f6b117b1908"
      },
      "outputs": [
        {
          "output_type": "execute_result",
          "data": {
            "text/plain": [
              "0.9900595892597454"
            ]
          },
          "metadata": {},
          "execution_count": 78
        }
      ],
      "source": [
        "ada.score(xtest_b,ytest_b)"
      ]
    },
    {
      "cell_type": "code",
      "source": [
        "x.shape"
      ],
      "metadata": {
        "colab": {
          "base_uri": "https://localhost:8080/"
        },
        "id": "mMou9nx8e1wK",
        "outputId": "f794acae-1759-4237-c184-09bfbd3cb912"
      },
      "id": "mMou9nx8e1wK",
      "execution_count": 79,
      "outputs": [
        {
          "output_type": "execute_result",
          "data": {
            "text/plain": [
              "(451085, 21)"
            ]
          },
          "metadata": {},
          "execution_count": 79
        }
      ]
    },
    {
      "cell_type": "code",
      "source": [
        "y.shape"
      ],
      "metadata": {
        "colab": {
          "base_uri": "https://localhost:8080/"
        },
        "id": "e4kXlb8ue2Bv",
        "outputId": "1e820b56-917d-4d40-ef24-8657b05a8840"
      },
      "id": "e4kXlb8ue2Bv",
      "execution_count": 80,
      "outputs": [
        {
          "output_type": "execute_result",
          "data": {
            "text/plain": [
              "(451085,)"
            ]
          },
          "metadata": {},
          "execution_count": 80
        }
      ]
    },
    {
      "cell_type": "code",
      "execution_count": 81,
      "id": "47c7d07d",
      "metadata": {
        "colab": {
          "base_uri": "https://localhost:8080/"
        },
        "id": "47c7d07d",
        "outputId": "088a813f-2806-4af1-e357-19f84d95405b"
      },
      "outputs": [
        {
          "output_type": "execute_result",
          "data": {
            "text/plain": [
              "(338313, 21)"
            ]
          },
          "metadata": {},
          "execution_count": 81
        }
      ],
      "source": [
        "xtrain_b.shape"
      ]
    },
    {
      "cell_type": "code",
      "source": [
        "ytrain_b.shape"
      ],
      "metadata": {
        "colab": {
          "base_uri": "https://localhost:8080/"
        },
        "id": "V7S-9uyWeqT-",
        "outputId": "b3c38e54-9627-41e9-9d18-b8f13ee6f969"
      },
      "id": "V7S-9uyWeqT-",
      "execution_count": 82,
      "outputs": [
        {
          "output_type": "execute_result",
          "data": {
            "text/plain": [
              "(338313,)"
            ]
          },
          "metadata": {},
          "execution_count": 82
        }
      ]
    },
    {
      "cell_type": "code",
      "source": [
        "xtest_b.shape"
      ],
      "metadata": {
        "colab": {
          "base_uri": "https://localhost:8080/"
        },
        "id": "FshlsiISesXv",
        "outputId": "6b764142-2f01-4283-fbfa-a3df7f6ed3a3"
      },
      "id": "FshlsiISesXv",
      "execution_count": 83,
      "outputs": [
        {
          "output_type": "execute_result",
          "data": {
            "text/plain": [
              "(112772, 21)"
            ]
          },
          "metadata": {},
          "execution_count": 83
        }
      ]
    },
    {
      "cell_type": "code",
      "source": [
        "ytest_b.shape"
      ],
      "metadata": {
        "colab": {
          "base_uri": "https://localhost:8080/"
        },
        "id": "IHbLDEWUesaS",
        "outputId": "3330a41a-3bb2-4639-9d3b-2b5e9c5296b4"
      },
      "id": "IHbLDEWUesaS",
      "execution_count": 84,
      "outputs": [
        {
          "output_type": "execute_result",
          "data": {
            "text/plain": [
              "(112772,)"
            ]
          },
          "metadata": {},
          "execution_count": 84
        }
      ]
    },
    {
      "cell_type": "code",
      "source": [
        "y.value_counts()"
      ],
      "metadata": {
        "colab": {
          "base_uri": "https://localhost:8080/"
        },
        "id": "6xNqkRZxesci",
        "outputId": "8827f942-329b-4fef-f87c-79c7f31baaa1"
      },
      "id": "6xNqkRZxesci",
      "execution_count": 85,
      "outputs": [
        {
          "output_type": "execute_result",
          "data": {
            "text/plain": [
              "0    442845\n",
              "1      8240\n",
              "Name: Phishing Status, dtype: int64"
            ]
          },
          "metadata": {},
          "execution_count": 85
        }
      ]
    },
    {
      "cell_type": "markdown",
      "id": "a7edf8fd",
      "metadata": {
        "id": "a7edf8fd"
      },
      "source": [
        "# Cross Validation"
      ]
    },
    {
      "cell_type": "markdown",
      "source": [
        ""
      ],
      "metadata": {
        "id": "8D_u4fPMf9k4"
      },
      "id": "8D_u4fPMf9k4"
    },
    {
      "cell_type": "markdown",
      "id": "42408ab9",
      "metadata": {
        "id": "42408ab9"
      },
      "source": [
        "# K Fold Cross Validation"
      ]
    },
    {
      "cell_type": "code",
      "execution_count": 86,
      "id": "be881796",
      "metadata": {
        "id": "be881796"
      },
      "outputs": [],
      "source": [
        "from sklearn.model_selection import KFold, cross_val_score, cross_validate"
      ]
    },
    {
      "cell_type": "code",
      "execution_count": 87,
      "id": "54d674d4",
      "metadata": {
        "id": "54d674d4"
      },
      "outputs": [],
      "source": [
        "kfold = KFold(n_splits=4) #each fold contain 25% data"
      ]
    },
    {
      "cell_type": "code",
      "execution_count": 88,
      "id": "114df71e",
      "metadata": {
        "id": "114df71e"
      },
      "outputs": [],
      "source": [
        "result = cross_val_score(xgb, x_new, y_new,cv=kfold)  #over sampling"
      ]
    },
    {
      "cell_type": "code",
      "execution_count": 89,
      "id": "852574c7",
      "metadata": {
        "colab": {
          "base_uri": "https://localhost:8080/"
        },
        "id": "852574c7",
        "outputId": "7850c6e6-0c5f-48fe-a246-6c2896692b23"
      },
      "outputs": [
        {
          "output_type": "execute_result",
          "data": {
            "text/plain": [
              "array([0.87924922, 0.86763796, 0.87174265, 0.86229462])"
            ]
          },
          "metadata": {},
          "execution_count": 89
        }
      ],
      "source": [
        "result"
      ]
    },
    {
      "cell_type": "code",
      "execution_count": 90,
      "id": "f2d7d840",
      "metadata": {
        "colab": {
          "base_uri": "https://localhost:8080/"
        },
        "id": "f2d7d840",
        "outputId": "e8e30f59-ae01-4bfe-8325-4cc0f42ab42f"
      },
      "outputs": [
        {
          "output_type": "execute_result",
          "data": {
            "text/plain": [
              "0.8702311119861851"
            ]
          },
          "metadata": {},
          "execution_count": 90
        }
      ],
      "source": [
        "result.mean()"
      ]
    },
    {
      "cell_type": "code",
      "execution_count": 91,
      "id": "0c350695",
      "metadata": {
        "id": "0c350695"
      },
      "outputs": [],
      "source": [
        "cross_validate = cross_validate(xgb, x_new, y_new,cv=kfold)"
      ]
    },
    {
      "cell_type": "code",
      "execution_count": 92,
      "id": "0bd51f27",
      "metadata": {
        "colab": {
          "base_uri": "https://localhost:8080/"
        },
        "id": "0bd51f27",
        "outputId": "2d6613ff-da78-47e2-cf8a-634d822a90ee"
      },
      "outputs": [
        {
          "output_type": "execute_result",
          "data": {
            "text/plain": [
              "{'fit_time': array([50.38600659, 51.70870185, 49.61505294, 49.83766365]),\n",
              " 'score_time': array([0.68598247, 0.7087934 , 0.77111721, 0.76615477]),\n",
              " 'test_score': array([0.87924922, 0.86763796, 0.87174265, 0.86229462])}"
            ]
          },
          "metadata": {},
          "execution_count": 92
        }
      ],
      "source": [
        "cross_validate"
      ]
    },
    {
      "cell_type": "code",
      "execution_count": 93,
      "id": "861d2257",
      "metadata": {
        "colab": {
          "base_uri": "https://localhost:8080/"
        },
        "id": "861d2257",
        "outputId": "8e86a500-c2e3-4c98-b151-e4696ec7a442"
      },
      "outputs": [
        {
          "output_type": "execute_result",
          "data": {
            "text/plain": [
              "0.8792492198190793"
            ]
          },
          "metadata": {},
          "execution_count": 93
        }
      ],
      "source": [
        "result.max()"
      ]
    },
    {
      "cell_type": "code",
      "execution_count": 94,
      "id": "77cd72d7",
      "metadata": {
        "colab": {
          "base_uri": "https://localhost:8080/"
        },
        "id": "77cd72d7",
        "outputId": "39612207-6898-4c0c-ac47-dc9bd4626038"
      },
      "outputs": [
        {
          "output_type": "execute_result",
          "data": {
            "text/plain": [
              "0.8622946229371968"
            ]
          },
          "metadata": {},
          "execution_count": 94
        }
      ],
      "source": [
        "result.min()"
      ]
    },
    {
      "cell_type": "code",
      "execution_count": 95,
      "id": "e7f938be",
      "metadata": {
        "colab": {
          "base_uri": "https://localhost:8080/"
        },
        "id": "e7f938be",
        "outputId": "8de18b33-b3cf-496a-8d28-dbec80866ba4"
      },
      "outputs": [
        {
          "output_type": "execute_result",
          "data": {
            "text/plain": [
              "0.8702311119861851"
            ]
          },
          "metadata": {},
          "execution_count": 95
        }
      ],
      "source": [
        "result.mean()"
      ]
    },
    {
      "cell_type": "markdown",
      "id": "9f37f578",
      "metadata": {
        "id": "9f37f578"
      },
      "source": [
        "# Stratified k fold cross Validation"
      ]
    },
    {
      "cell_type": "code",
      "execution_count": 96,
      "id": "b6f80d3f",
      "metadata": {
        "id": "b6f80d3f"
      },
      "outputs": [],
      "source": [
        "from sklearn.model_selection import StratifiedKFold"
      ]
    },
    {
      "cell_type": "code",
      "execution_count": 97,
      "id": "076a86f3",
      "metadata": {
        "id": "076a86f3"
      },
      "outputs": [],
      "source": [
        "st = StratifiedKFold(n_splits=4)"
      ]
    },
    {
      "cell_type": "code",
      "execution_count": 98,
      "id": "55fbb19e",
      "metadata": {
        "id": "55fbb19e"
      },
      "outputs": [],
      "source": [
        "score2 = cross_val_score(xgb, x_new, y_new,cv=st)"
      ]
    },
    {
      "cell_type": "code",
      "execution_count": 99,
      "id": "e197236b",
      "metadata": {
        "colab": {
          "base_uri": "https://localhost:8080/"
        },
        "id": "e197236b",
        "outputId": "a2ce8bde-b542-4f9c-bae6-2d6b8eeecb53"
      },
      "outputs": [
        {
          "output_type": "execute_result",
          "data": {
            "text/plain": [
              "array([0.93691712, 0.9335751 , 0.9313799 , 0.93449612])"
            ]
          },
          "metadata": {},
          "execution_count": 99
        }
      ],
      "source": [
        "score2"
      ]
    },
    {
      "cell_type": "code",
      "execution_count": 100,
      "id": "08dc6e96",
      "metadata": {
        "colab": {
          "base_uri": "https://localhost:8080/"
        },
        "id": "08dc6e96",
        "outputId": "3b56d016-ae50-4526-a98c-c5c39a624644"
      },
      "outputs": [
        {
          "output_type": "execute_result",
          "data": {
            "text/plain": [
              "0.9369171224308225"
            ]
          },
          "metadata": {},
          "execution_count": 100
        }
      ],
      "source": [
        "score2.max()"
      ]
    },
    {
      "cell_type": "code",
      "execution_count": 101,
      "id": "24b58dc3",
      "metadata": {
        "colab": {
          "base_uri": "https://localhost:8080/"
        },
        "id": "24b58dc3",
        "outputId": "604cc432-1807-4809-fde6-db8598647b9b"
      },
      "outputs": [
        {
          "output_type": "execute_result",
          "data": {
            "text/plain": [
              "0.9313798990163579"
            ]
          },
          "metadata": {},
          "execution_count": 101
        }
      ],
      "source": [
        "score2.min()"
      ]
    },
    {
      "cell_type": "code",
      "execution_count": 102,
      "id": "f2011d64",
      "metadata": {
        "colab": {
          "base_uri": "https://localhost:8080/"
        },
        "id": "f2011d64",
        "outputId": "0de30fcc-c128-4261-d5f9-7cef72f5934d"
      },
      "outputs": [
        {
          "output_type": "execute_result",
          "data": {
            "text/plain": [
              "0.934092061208659"
            ]
          },
          "metadata": {},
          "execution_count": 102
        }
      ],
      "source": [
        "score2.mean()"
      ]
    },
    {
      "cell_type": "markdown",
      "source": [
        "Before Sampling \n",
        "with hold out cross valdation   **0.9900595892597454**\n",
        "\n",
        "\n",
        "Undersampling\n",
        "\n",
        "with hold out cross valdation   **0.9315533980582524**\n",
        "\n",
        "\n",
        "Oversampling\n",
        "\n",
        "with hold out cross valdation   **0.923196777209233**\n",
        "\n",
        "with k Fold cross validation   **0.8702311119861851**\n",
        "\n",
        "\n",
        "with stratified K Fold cross validation **0.934092061208659**"
      ],
      "metadata": {
        "id": "y_P7uGzSzwVw"
      },
      "id": "y_P7uGzSzwVw"
    },
    {
      "cell_type": "markdown",
      "id": "61af4f26",
      "metadata": {
        "id": "61af4f26"
      },
      "source": [
        "# Leave One Out Cross Validation"
      ]
    },
    {
      "cell_type": "code",
      "execution_count": 103,
      "id": "9a96184f",
      "metadata": {
        "id": "9a96184f"
      },
      "outputs": [],
      "source": [
        "from sklearn.model_selection import LeaveOneOut"
      ]
    },
    {
      "cell_type": "code",
      "execution_count": 104,
      "id": "56026e50",
      "metadata": {
        "id": "56026e50"
      },
      "outputs": [],
      "source": [
        "le = LeaveOneOut()  "
      ]
    },
    {
      "cell_type": "code",
      "execution_count": null,
      "id": "37e4c49d",
      "metadata": {
        "id": "37e4c49d"
      },
      "outputs": [],
      "source": [
        "#result3 = cross_val_score(ada,x,y,cv=le) time consuming tai run korte parini"
      ]
    },
    {
      "cell_type": "code",
      "execution_count": null,
      "id": "734095c7",
      "metadata": {
        "id": "734095c7"
      },
      "outputs": [],
      "source": [
        "#result3"
      ]
    },
    {
      "cell_type": "code",
      "execution_count": null,
      "id": "b69972e0",
      "metadata": {
        "id": "b69972e0"
      },
      "outputs": [],
      "source": [
        "#result3.mean()"
      ]
    },
    {
      "cell_type": "code",
      "execution_count": null,
      "id": "d34c30e7",
      "metadata": {
        "id": "d34c30e7"
      },
      "outputs": [],
      "source": [
        ""
      ]
    }
  ],
  "metadata": {
    "kernelspec": {
      "display_name": "Python 3",
      "language": "python",
      "name": "python3"
    },
    "language_info": {
      "codemirror_mode": {
        "name": "ipython",
        "version": 3
      },
      "file_extension": ".py",
      "mimetype": "text/x-python",
      "name": "python",
      "nbconvert_exporter": "python",
      "pygments_lexer": "ipython3",
      "version": "3.8.8"
    },
    "colab": {
      "name": "Batch 10 Class 13 - Imbalanced Class & Cross Validation.ipynb",
      "provenance": []
    },
    "gpuClass": "standard"
  },
  "nbformat": 4,
  "nbformat_minor": 5
}